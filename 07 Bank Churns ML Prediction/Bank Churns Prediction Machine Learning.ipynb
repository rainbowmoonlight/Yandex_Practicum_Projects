{
 "cells": [
  {
   "cell_type": "markdown",
   "metadata": {},
   "source": [
    "# Bank Churns Prediction Machine Learning\n",
    "\n",
    "Project Report by Allentine Paulis"
   ]
  },
  {
   "cell_type": "markdown",
   "metadata": {},
   "source": [
    "# Table of Contents\n",
    "* [Project Description](#description)\n",
    "* [Data](#data)\n",
    "* [Step 1. Understanding Data and Data Preprocessing](#understanding)\n",
    "* [Step 2. Train Machine Learning Model](#modeltrain)   \n",
    "* [Step 3. Improve Machine Learning model Quality](#improve)\n",
    "* [Step 4. Final Testing](#test)\n",
    "* [Step 5. Overall conclusion](#allconclusion)"
   ]
  },
  {
   "cell_type": "markdown",
   "metadata": {},
   "source": [
    "# Project Description <a class=\"anchor\" id=\"description\"></a>\n",
    "Beta Bank customers are leaving: little by little, chipping away every month. The bankers figured out it’s cheaper to save the existing customers rather than to attract new ones.\n",
    "\n",
    "We need to predict whether a customer will leave the bank soon. We have the data on clients’ past behavior and termination of contracts with the bank.\n",
    "\n",
    "We are going to build a model with the maximum possible F1 score. We need an F1 score of at least 0.59. Check the F1 for the test set. Additionally, measure the AUC-ROC metric and compare it with the F1."
   ]
  },
  {
   "cell_type": "markdown",
   "metadata": {},
   "source": [
    "# Data <a class=\"anchor\" id=\"data\"></a>\n",
    "**Features**\n",
    "- `RowNumber` — data string index\n",
    "- `CustomerId` — unique customer identifier\n",
    "- `Surname` — surname\n",
    "- `CreditScore` — credit score\n",
    "- `Geography` — country of residence\n",
    "- `Gender` — gender\n",
    "- `Age` — age\n",
    "- `Tenure` — period of maturation for a customer’s fixed deposit (years)\n",
    "- `Balance` — account balance\n",
    "- `NumOfProducts` — number of banking products used by the customer\n",
    "- `HasCrCard` — customer has a credit card\n",
    "- `IsActiveMember` — customer’s activeness\n",
    "- `EstimatedSalary` — estimated salary\n",
    "\n",
    "**Target**\n",
    "- `Exited` — сustomer has left"
   ]
  },
  {
   "cell_type": "markdown",
   "metadata": {},
   "source": [
    "# Step 1. Understanding Data and Data Preprocessing<a class=\"anchor\" id=\"understanding\"></a>"
   ]
  },
  {
   "cell_type": "code",
   "execution_count": 1,
   "metadata": {},
   "outputs": [],
   "source": [
    "import pandas as pd\n",
    "import numpy as np\n",
    "import matplotlib.pyplot as plt\n",
    "import seaborn as sns\n",
    "from collections import defaultdict\n",
    "\n",
    "#models\n",
    "from sklearn.tree import DecisionTreeClassifier\n",
    "from sklearn.ensemble import RandomForestClassifier\n",
    "from sklearn.linear_model import LogisticRegression\n",
    "from sklearn.utils import shuffle\n",
    "\n",
    "#metrics\n",
    "from sklearn.preprocessing import StandardScaler\n",
    "from sklearn.model_selection import train_test_split\n",
    "from sklearn.metrics import mean_squared_error, accuracy_score, f1_score, confusion_matrix\n",
    "from sklearn.metrics import roc_auc_score, roc_curve, precision_recall_curve"
   ]
  },
  {
   "cell_type": "code",
   "execution_count": 2,
   "metadata": {},
   "outputs": [],
   "source": [
    "df = pd.read_csv(\"https://code.s3.yandex.net/datasets/Churn.csv\")"
   ]
  },
  {
   "cell_type": "code",
   "execution_count": 3,
   "metadata": {},
   "outputs": [
    {
     "data": {
      "text/html": [
       "<div>\n",
       "<style scoped>\n",
       "    .dataframe tbody tr th:only-of-type {\n",
       "        vertical-align: middle;\n",
       "    }\n",
       "\n",
       "    .dataframe tbody tr th {\n",
       "        vertical-align: top;\n",
       "    }\n",
       "\n",
       "    .dataframe thead th {\n",
       "        text-align: right;\n",
       "    }\n",
       "</style>\n",
       "<table border=\"1\" class=\"dataframe\">\n",
       "  <thead>\n",
       "    <tr style=\"text-align: right;\">\n",
       "      <th></th>\n",
       "      <th>RowNumber</th>\n",
       "      <th>CustomerId</th>\n",
       "      <th>Surname</th>\n",
       "      <th>CreditScore</th>\n",
       "      <th>Geography</th>\n",
       "      <th>Gender</th>\n",
       "      <th>Age</th>\n",
       "      <th>Tenure</th>\n",
       "      <th>Balance</th>\n",
       "      <th>NumOfProducts</th>\n",
       "      <th>HasCrCard</th>\n",
       "      <th>IsActiveMember</th>\n",
       "      <th>EstimatedSalary</th>\n",
       "      <th>Exited</th>\n",
       "    </tr>\n",
       "  </thead>\n",
       "  <tbody>\n",
       "    <tr>\n",
       "      <td>0</td>\n",
       "      <td>1</td>\n",
       "      <td>15634602</td>\n",
       "      <td>Hargrave</td>\n",
       "      <td>619</td>\n",
       "      <td>France</td>\n",
       "      <td>Female</td>\n",
       "      <td>42</td>\n",
       "      <td>2.0</td>\n",
       "      <td>0.00</td>\n",
       "      <td>1</td>\n",
       "      <td>1</td>\n",
       "      <td>1</td>\n",
       "      <td>101348.88</td>\n",
       "      <td>1</td>\n",
       "    </tr>\n",
       "    <tr>\n",
       "      <td>1</td>\n",
       "      <td>2</td>\n",
       "      <td>15647311</td>\n",
       "      <td>Hill</td>\n",
       "      <td>608</td>\n",
       "      <td>Spain</td>\n",
       "      <td>Female</td>\n",
       "      <td>41</td>\n",
       "      <td>1.0</td>\n",
       "      <td>83807.86</td>\n",
       "      <td>1</td>\n",
       "      <td>0</td>\n",
       "      <td>1</td>\n",
       "      <td>112542.58</td>\n",
       "      <td>0</td>\n",
       "    </tr>\n",
       "    <tr>\n",
       "      <td>2</td>\n",
       "      <td>3</td>\n",
       "      <td>15619304</td>\n",
       "      <td>Onio</td>\n",
       "      <td>502</td>\n",
       "      <td>France</td>\n",
       "      <td>Female</td>\n",
       "      <td>42</td>\n",
       "      <td>8.0</td>\n",
       "      <td>159660.80</td>\n",
       "      <td>3</td>\n",
       "      <td>1</td>\n",
       "      <td>0</td>\n",
       "      <td>113931.57</td>\n",
       "      <td>1</td>\n",
       "    </tr>\n",
       "    <tr>\n",
       "      <td>3</td>\n",
       "      <td>4</td>\n",
       "      <td>15701354</td>\n",
       "      <td>Boni</td>\n",
       "      <td>699</td>\n",
       "      <td>France</td>\n",
       "      <td>Female</td>\n",
       "      <td>39</td>\n",
       "      <td>1.0</td>\n",
       "      <td>0.00</td>\n",
       "      <td>2</td>\n",
       "      <td>0</td>\n",
       "      <td>0</td>\n",
       "      <td>93826.63</td>\n",
       "      <td>0</td>\n",
       "    </tr>\n",
       "    <tr>\n",
       "      <td>4</td>\n",
       "      <td>5</td>\n",
       "      <td>15737888</td>\n",
       "      <td>Mitchell</td>\n",
       "      <td>850</td>\n",
       "      <td>Spain</td>\n",
       "      <td>Female</td>\n",
       "      <td>43</td>\n",
       "      <td>2.0</td>\n",
       "      <td>125510.82</td>\n",
       "      <td>1</td>\n",
       "      <td>1</td>\n",
       "      <td>1</td>\n",
       "      <td>79084.10</td>\n",
       "      <td>0</td>\n",
       "    </tr>\n",
       "  </tbody>\n",
       "</table>\n",
       "</div>"
      ],
      "text/plain": [
       "   RowNumber  CustomerId   Surname  CreditScore Geography  Gender  Age  \\\n",
       "0          1    15634602  Hargrave          619    France  Female   42   \n",
       "1          2    15647311      Hill          608     Spain  Female   41   \n",
       "2          3    15619304      Onio          502    France  Female   42   \n",
       "3          4    15701354      Boni          699    France  Female   39   \n",
       "4          5    15737888  Mitchell          850     Spain  Female   43   \n",
       "\n",
       "   Tenure    Balance  NumOfProducts  HasCrCard  IsActiveMember  \\\n",
       "0     2.0       0.00              1          1               1   \n",
       "1     1.0   83807.86              1          0               1   \n",
       "2     8.0  159660.80              3          1               0   \n",
       "3     1.0       0.00              2          0               0   \n",
       "4     2.0  125510.82              1          1               1   \n",
       "\n",
       "   EstimatedSalary  Exited  \n",
       "0        101348.88       1  \n",
       "1        112542.58       0  \n",
       "2        113931.57       1  \n",
       "3         93826.63       0  \n",
       "4         79084.10       0  "
      ]
     },
     "execution_count": 3,
     "metadata": {},
     "output_type": "execute_result"
    }
   ],
   "source": [
    "df.head()"
   ]
  },
  {
   "cell_type": "code",
   "execution_count": 4,
   "metadata": {},
   "outputs": [
    {
     "name": "stdout",
     "output_type": "stream",
     "text": [
      "<class 'pandas.core.frame.DataFrame'>\n",
      "RangeIndex: 10000 entries, 0 to 9999\n",
      "Data columns (total 14 columns):\n",
      "RowNumber          10000 non-null int64\n",
      "CustomerId         10000 non-null int64\n",
      "Surname            10000 non-null object\n",
      "CreditScore        10000 non-null int64\n",
      "Geography          10000 non-null object\n",
      "Gender             10000 non-null object\n",
      "Age                10000 non-null int64\n",
      "Tenure             9091 non-null float64\n",
      "Balance            10000 non-null float64\n",
      "NumOfProducts      10000 non-null int64\n",
      "HasCrCard          10000 non-null int64\n",
      "IsActiveMember     10000 non-null int64\n",
      "EstimatedSalary    10000 non-null float64\n",
      "Exited             10000 non-null int64\n",
      "dtypes: float64(3), int64(8), object(3)\n",
      "memory usage: 1.1+ MB\n"
     ]
    }
   ],
   "source": [
    "df.info()"
   ]
  },
  {
   "cell_type": "code",
   "execution_count": 5,
   "metadata": {},
   "outputs": [
    {
     "data": {
      "text/html": [
       "<div>\n",
       "<style scoped>\n",
       "    .dataframe tbody tr th:only-of-type {\n",
       "        vertical-align: middle;\n",
       "    }\n",
       "\n",
       "    .dataframe tbody tr th {\n",
       "        vertical-align: top;\n",
       "    }\n",
       "\n",
       "    .dataframe thead th {\n",
       "        text-align: right;\n",
       "    }\n",
       "</style>\n",
       "<table border=\"1\" class=\"dataframe\">\n",
       "  <thead>\n",
       "    <tr style=\"text-align: right;\">\n",
       "      <th></th>\n",
       "      <th>RowNumber</th>\n",
       "      <th>CustomerId</th>\n",
       "      <th>CreditScore</th>\n",
       "      <th>Age</th>\n",
       "      <th>Tenure</th>\n",
       "      <th>Balance</th>\n",
       "      <th>NumOfProducts</th>\n",
       "      <th>HasCrCard</th>\n",
       "      <th>IsActiveMember</th>\n",
       "      <th>EstimatedSalary</th>\n",
       "      <th>Exited</th>\n",
       "    </tr>\n",
       "  </thead>\n",
       "  <tbody>\n",
       "    <tr>\n",
       "      <td>count</td>\n",
       "      <td>10000.00000</td>\n",
       "      <td>1.000000e+04</td>\n",
       "      <td>10000.000000</td>\n",
       "      <td>10000.000000</td>\n",
       "      <td>9091.000000</td>\n",
       "      <td>10000.000000</td>\n",
       "      <td>10000.000000</td>\n",
       "      <td>10000.00000</td>\n",
       "      <td>10000.000000</td>\n",
       "      <td>10000.000000</td>\n",
       "      <td>10000.000000</td>\n",
       "    </tr>\n",
       "    <tr>\n",
       "      <td>mean</td>\n",
       "      <td>5000.50000</td>\n",
       "      <td>1.569094e+07</td>\n",
       "      <td>650.528800</td>\n",
       "      <td>38.921800</td>\n",
       "      <td>4.997690</td>\n",
       "      <td>76485.889288</td>\n",
       "      <td>1.530200</td>\n",
       "      <td>0.70550</td>\n",
       "      <td>0.515100</td>\n",
       "      <td>100090.239881</td>\n",
       "      <td>0.203700</td>\n",
       "    </tr>\n",
       "    <tr>\n",
       "      <td>std</td>\n",
       "      <td>2886.89568</td>\n",
       "      <td>7.193619e+04</td>\n",
       "      <td>96.653299</td>\n",
       "      <td>10.487806</td>\n",
       "      <td>2.894723</td>\n",
       "      <td>62397.405202</td>\n",
       "      <td>0.581654</td>\n",
       "      <td>0.45584</td>\n",
       "      <td>0.499797</td>\n",
       "      <td>57510.492818</td>\n",
       "      <td>0.402769</td>\n",
       "    </tr>\n",
       "    <tr>\n",
       "      <td>min</td>\n",
       "      <td>1.00000</td>\n",
       "      <td>1.556570e+07</td>\n",
       "      <td>350.000000</td>\n",
       "      <td>18.000000</td>\n",
       "      <td>0.000000</td>\n",
       "      <td>0.000000</td>\n",
       "      <td>1.000000</td>\n",
       "      <td>0.00000</td>\n",
       "      <td>0.000000</td>\n",
       "      <td>11.580000</td>\n",
       "      <td>0.000000</td>\n",
       "    </tr>\n",
       "    <tr>\n",
       "      <td>25%</td>\n",
       "      <td>2500.75000</td>\n",
       "      <td>1.562853e+07</td>\n",
       "      <td>584.000000</td>\n",
       "      <td>32.000000</td>\n",
       "      <td>2.000000</td>\n",
       "      <td>0.000000</td>\n",
       "      <td>1.000000</td>\n",
       "      <td>0.00000</td>\n",
       "      <td>0.000000</td>\n",
       "      <td>51002.110000</td>\n",
       "      <td>0.000000</td>\n",
       "    </tr>\n",
       "    <tr>\n",
       "      <td>50%</td>\n",
       "      <td>5000.50000</td>\n",
       "      <td>1.569074e+07</td>\n",
       "      <td>652.000000</td>\n",
       "      <td>37.000000</td>\n",
       "      <td>5.000000</td>\n",
       "      <td>97198.540000</td>\n",
       "      <td>1.000000</td>\n",
       "      <td>1.00000</td>\n",
       "      <td>1.000000</td>\n",
       "      <td>100193.915000</td>\n",
       "      <td>0.000000</td>\n",
       "    </tr>\n",
       "    <tr>\n",
       "      <td>75%</td>\n",
       "      <td>7500.25000</td>\n",
       "      <td>1.575323e+07</td>\n",
       "      <td>718.000000</td>\n",
       "      <td>44.000000</td>\n",
       "      <td>7.000000</td>\n",
       "      <td>127644.240000</td>\n",
       "      <td>2.000000</td>\n",
       "      <td>1.00000</td>\n",
       "      <td>1.000000</td>\n",
       "      <td>149388.247500</td>\n",
       "      <td>0.000000</td>\n",
       "    </tr>\n",
       "    <tr>\n",
       "      <td>max</td>\n",
       "      <td>10000.00000</td>\n",
       "      <td>1.581569e+07</td>\n",
       "      <td>850.000000</td>\n",
       "      <td>92.000000</td>\n",
       "      <td>10.000000</td>\n",
       "      <td>250898.090000</td>\n",
       "      <td>4.000000</td>\n",
       "      <td>1.00000</td>\n",
       "      <td>1.000000</td>\n",
       "      <td>199992.480000</td>\n",
       "      <td>1.000000</td>\n",
       "    </tr>\n",
       "  </tbody>\n",
       "</table>\n",
       "</div>"
      ],
      "text/plain": [
       "         RowNumber    CustomerId   CreditScore           Age       Tenure  \\\n",
       "count  10000.00000  1.000000e+04  10000.000000  10000.000000  9091.000000   \n",
       "mean    5000.50000  1.569094e+07    650.528800     38.921800     4.997690   \n",
       "std     2886.89568  7.193619e+04     96.653299     10.487806     2.894723   \n",
       "min        1.00000  1.556570e+07    350.000000     18.000000     0.000000   \n",
       "25%     2500.75000  1.562853e+07    584.000000     32.000000     2.000000   \n",
       "50%     5000.50000  1.569074e+07    652.000000     37.000000     5.000000   \n",
       "75%     7500.25000  1.575323e+07    718.000000     44.000000     7.000000   \n",
       "max    10000.00000  1.581569e+07    850.000000     92.000000    10.000000   \n",
       "\n",
       "             Balance  NumOfProducts    HasCrCard  IsActiveMember  \\\n",
       "count   10000.000000   10000.000000  10000.00000    10000.000000   \n",
       "mean    76485.889288       1.530200      0.70550        0.515100   \n",
       "std     62397.405202       0.581654      0.45584        0.499797   \n",
       "min         0.000000       1.000000      0.00000        0.000000   \n",
       "25%         0.000000       1.000000      0.00000        0.000000   \n",
       "50%     97198.540000       1.000000      1.00000        1.000000   \n",
       "75%    127644.240000       2.000000      1.00000        1.000000   \n",
       "max    250898.090000       4.000000      1.00000        1.000000   \n",
       "\n",
       "       EstimatedSalary        Exited  \n",
       "count     10000.000000  10000.000000  \n",
       "mean     100090.239881      0.203700  \n",
       "std       57510.492818      0.402769  \n",
       "min          11.580000      0.000000  \n",
       "25%       51002.110000      0.000000  \n",
       "50%      100193.915000      0.000000  \n",
       "75%      149388.247500      0.000000  \n",
       "max      199992.480000      1.000000  "
      ]
     },
     "execution_count": 5,
     "metadata": {},
     "output_type": "execute_result"
    }
   ],
   "source": [
    "df.describe()"
   ]
  },
  {
   "cell_type": "code",
   "execution_count": 6,
   "metadata": {},
   "outputs": [
    {
     "data": {
      "text/html": [
       "<div>\n",
       "<style scoped>\n",
       "    .dataframe tbody tr th:only-of-type {\n",
       "        vertical-align: middle;\n",
       "    }\n",
       "\n",
       "    .dataframe tbody tr th {\n",
       "        vertical-align: top;\n",
       "    }\n",
       "\n",
       "    .dataframe thead th {\n",
       "        text-align: right;\n",
       "    }\n",
       "</style>\n",
       "<table border=\"1\" class=\"dataframe\">\n",
       "  <thead>\n",
       "    <tr style=\"text-align: right;\">\n",
       "      <th></th>\n",
       "      <th>Surname</th>\n",
       "      <th>Geography</th>\n",
       "      <th>Gender</th>\n",
       "    </tr>\n",
       "  </thead>\n",
       "  <tbody>\n",
       "    <tr>\n",
       "      <td>count</td>\n",
       "      <td>10000</td>\n",
       "      <td>10000</td>\n",
       "      <td>10000</td>\n",
       "    </tr>\n",
       "    <tr>\n",
       "      <td>unique</td>\n",
       "      <td>2932</td>\n",
       "      <td>3</td>\n",
       "      <td>2</td>\n",
       "    </tr>\n",
       "    <tr>\n",
       "      <td>top</td>\n",
       "      <td>Smith</td>\n",
       "      <td>France</td>\n",
       "      <td>Male</td>\n",
       "    </tr>\n",
       "    <tr>\n",
       "      <td>freq</td>\n",
       "      <td>32</td>\n",
       "      <td>5014</td>\n",
       "      <td>5457</td>\n",
       "    </tr>\n",
       "  </tbody>\n",
       "</table>\n",
       "</div>"
      ],
      "text/plain": [
       "       Surname Geography Gender\n",
       "count    10000     10000  10000\n",
       "unique    2932         3      2\n",
       "top      Smith    France   Male\n",
       "freq        32      5014   5457"
      ]
     },
     "execution_count": 6,
     "metadata": {},
     "output_type": "execute_result"
    }
   ],
   "source": [
    "df.describe(include='object')"
   ]
  },
  {
   "cell_type": "code",
   "execution_count": 7,
   "metadata": {},
   "outputs": [
    {
     "data": {
      "text/plain": [
       "RowNumber            0\n",
       "CustomerId           0\n",
       "Surname              0\n",
       "CreditScore          0\n",
       "Geography            0\n",
       "Gender               0\n",
       "Age                  0\n",
       "Tenure             909\n",
       "Balance              0\n",
       "NumOfProducts        0\n",
       "HasCrCard            0\n",
       "IsActiveMember       0\n",
       "EstimatedSalary      0\n",
       "Exited               0\n",
       "dtype: int64"
      ]
     },
     "execution_count": 7,
     "metadata": {},
     "output_type": "execute_result"
    }
   ],
   "source": [
    "df.isna().sum()"
   ]
  },
  {
   "cell_type": "code",
   "execution_count": 8,
   "metadata": {},
   "outputs": [
    {
     "data": {
      "text/plain": [
       "9.09"
      ]
     },
     "execution_count": 8,
     "metadata": {},
     "output_type": "execute_result"
    }
   ],
   "source": [
    "df['Tenure'].isna().sum()/len(df)*100"
   ]
  },
  {
   "cell_type": "markdown",
   "metadata": {},
   "source": [
    "Tenure has missing values 999 rows or 9% of the data."
   ]
  },
  {
   "cell_type": "code",
   "execution_count": 9,
   "metadata": {},
   "outputs": [
    {
     "data": {
      "text/plain": [
       "1.0     952\n",
       "2.0     950\n",
       "8.0     933\n",
       "3.0     928\n",
       "5.0     927\n",
       "7.0     925\n",
       "4.0     885\n",
       "9.0     882\n",
       "6.0     881\n",
       "10.0    446\n",
       "0.0     382\n",
       "Name: Tenure, dtype: int64"
      ]
     },
     "execution_count": 9,
     "metadata": {},
     "output_type": "execute_result"
    }
   ],
   "source": [
    "df['Tenure'].value_counts()"
   ]
  },
  {
   "cell_type": "markdown",
   "metadata": {},
   "source": [
    "Replace the Tenure missing values with 0, assuming that 0 might be less than a year of Tenure or in certain months."
   ]
  },
  {
   "cell_type": "code",
   "execution_count": 10,
   "metadata": {},
   "outputs": [],
   "source": [
    "df['Tenure'] = df['Tenure'].fillna(0)"
   ]
  },
  {
   "cell_type": "code",
   "execution_count": 11,
   "metadata": {},
   "outputs": [
    {
     "data": {
      "text/plain": [
       "0"
      ]
     },
     "execution_count": 11,
     "metadata": {},
     "output_type": "execute_result"
    }
   ],
   "source": [
    "df['Tenure'].isna().sum()"
   ]
  },
  {
   "cell_type": "code",
   "execution_count": 12,
   "metadata": {},
   "outputs": [
    {
     "data": {
      "text/plain": [
       "France     5014\n",
       "Germany    2509\n",
       "Spain      2477\n",
       "Name: Geography, dtype: int64"
      ]
     },
     "execution_count": 12,
     "metadata": {},
     "output_type": "execute_result"
    }
   ],
   "source": [
    "df['Geography'].value_counts()"
   ]
  },
  {
   "cell_type": "code",
   "execution_count": 13,
   "metadata": {},
   "outputs": [
    {
     "data": {
      "text/plain": [
       "Male      5457\n",
       "Female    4543\n",
       "Name: Gender, dtype: int64"
      ]
     },
     "execution_count": 13,
     "metadata": {},
     "output_type": "execute_result"
    }
   ],
   "source": [
    "df['Gender'].value_counts()"
   ]
  },
  {
   "cell_type": "code",
   "execution_count": 14,
   "metadata": {},
   "outputs": [
    {
     "data": {
      "image/png": "[encoded data removed]",
      "text/plain": [
       "<Figure size 864x720 with 2 Axes>"
      ]
     },
     "metadata": {
      "needs_background": "light"
     },
     "output_type": "display_data"
    }
   ],
   "source": [
    "plt.figure(figsize=(12,10))\n",
    "sns.heatmap(df.corr(), annot=True, cmap=\"YlGnBu\")\n",
    "plt.title(\"Heatmap Correlation Without Get Dummies\")\n",
    "plt.show()"
   ]
  },
  {
   "cell_type": "code",
   "execution_count": 15,
   "metadata": {},
   "outputs": [
    {
     "data": {
      "text/plain": [
       "Exited             1.000000\n",
       "Age                0.285323\n",
       "Balance            0.118533\n",
       "EstimatedSalary    0.012097\n",
       "CustomerId        -0.006248\n",
       "HasCrCard         -0.007138\n",
       "Tenure            -0.013319\n",
       "RowNumber         -0.016571\n",
       "CreditScore       -0.027094\n",
       "NumOfProducts     -0.047820\n",
       "IsActiveMember    -0.156128\n",
       "Name: Exited, dtype: float64"
      ]
     },
     "execution_count": 15,
     "metadata": {},
     "output_type": "execute_result"
    }
   ],
   "source": [
    "# Correlation with no get dummies\n",
    "df.corr()['Exited'].sort_values(ascending=False)"
   ]
  },
  {
   "cell_type": "markdown",
   "metadata": {},
   "source": [
    "Removing Columns that are not needed and not related for the model which are RowNumber, CustomerID, Surname."
   ]
  },
  {
   "cell_type": "code",
   "execution_count": 16,
   "metadata": {},
   "outputs": [],
   "source": [
    "df = df.drop(['RowNumber','CustomerId','Surname'], axis=1)"
   ]
  },
  {
   "cell_type": "code",
   "execution_count": 17,
   "metadata": {},
   "outputs": [
    {
     "data": {
      "text/html": [
       "<div>\n",
       "<style scoped>\n",
       "    .dataframe tbody tr th:only-of-type {\n",
       "        vertical-align: middle;\n",
       "    }\n",
       "\n",
       "    .dataframe tbody tr th {\n",
       "        vertical-align: top;\n",
       "    }\n",
       "\n",
       "    .dataframe thead th {\n",
       "        text-align: right;\n",
       "    }\n",
       "</style>\n",
       "<table border=\"1\" class=\"dataframe\">\n",
       "  <thead>\n",
       "    <tr style=\"text-align: right;\">\n",
       "      <th></th>\n",
       "      <th>CreditScore</th>\n",
       "      <th>Geography</th>\n",
       "      <th>Gender</th>\n",
       "      <th>Age</th>\n",
       "      <th>Tenure</th>\n",
       "      <th>Balance</th>\n",
       "      <th>NumOfProducts</th>\n",
       "      <th>HasCrCard</th>\n",
       "      <th>IsActiveMember</th>\n",
       "      <th>EstimatedSalary</th>\n",
       "      <th>Exited</th>\n",
       "    </tr>\n",
       "  </thead>\n",
       "  <tbody>\n",
       "    <tr>\n",
       "      <td>0</td>\n",
       "      <td>619</td>\n",
       "      <td>France</td>\n",
       "      <td>Female</td>\n",
       "      <td>42</td>\n",
       "      <td>2.0</td>\n",
       "      <td>0.00</td>\n",
       "      <td>1</td>\n",
       "      <td>1</td>\n",
       "      <td>1</td>\n",
       "      <td>101348.88</td>\n",
       "      <td>1</td>\n",
       "    </tr>\n",
       "    <tr>\n",
       "      <td>1</td>\n",
       "      <td>608</td>\n",
       "      <td>Spain</td>\n",
       "      <td>Female</td>\n",
       "      <td>41</td>\n",
       "      <td>1.0</td>\n",
       "      <td>83807.86</td>\n",
       "      <td>1</td>\n",
       "      <td>0</td>\n",
       "      <td>1</td>\n",
       "      <td>112542.58</td>\n",
       "      <td>0</td>\n",
       "    </tr>\n",
       "    <tr>\n",
       "      <td>2</td>\n",
       "      <td>502</td>\n",
       "      <td>France</td>\n",
       "      <td>Female</td>\n",
       "      <td>42</td>\n",
       "      <td>8.0</td>\n",
       "      <td>159660.80</td>\n",
       "      <td>3</td>\n",
       "      <td>1</td>\n",
       "      <td>0</td>\n",
       "      <td>113931.57</td>\n",
       "      <td>1</td>\n",
       "    </tr>\n",
       "    <tr>\n",
       "      <td>3</td>\n",
       "      <td>699</td>\n",
       "      <td>France</td>\n",
       "      <td>Female</td>\n",
       "      <td>39</td>\n",
       "      <td>1.0</td>\n",
       "      <td>0.00</td>\n",
       "      <td>2</td>\n",
       "      <td>0</td>\n",
       "      <td>0</td>\n",
       "      <td>93826.63</td>\n",
       "      <td>0</td>\n",
       "    </tr>\n",
       "    <tr>\n",
       "      <td>4</td>\n",
       "      <td>850</td>\n",
       "      <td>Spain</td>\n",
       "      <td>Female</td>\n",
       "      <td>43</td>\n",
       "      <td>2.0</td>\n",
       "      <td>125510.82</td>\n",
       "      <td>1</td>\n",
       "      <td>1</td>\n",
       "      <td>1</td>\n",
       "      <td>79084.10</td>\n",
       "      <td>0</td>\n",
       "    </tr>\n",
       "  </tbody>\n",
       "</table>\n",
       "</div>"
      ],
      "text/plain": [
       "   CreditScore Geography  Gender  Age  Tenure    Balance  NumOfProducts  \\\n",
       "0          619    France  Female   42     2.0       0.00              1   \n",
       "1          608     Spain  Female   41     1.0   83807.86              1   \n",
       "2          502    France  Female   42     8.0  159660.80              3   \n",
       "3          699    France  Female   39     1.0       0.00              2   \n",
       "4          850     Spain  Female   43     2.0  125510.82              1   \n",
       "\n",
       "   HasCrCard  IsActiveMember  EstimatedSalary  Exited  \n",
       "0          1               1        101348.88       1  \n",
       "1          0               1        112542.58       0  \n",
       "2          1               0        113931.57       1  \n",
       "3          0               0         93826.63       0  \n",
       "4          1               1         79084.10       0  "
      ]
     },
     "execution_count": 17,
     "metadata": {},
     "output_type": "execute_result"
    }
   ],
   "source": [
    "df.head()"
   ]
  },
  {
   "cell_type": "markdown",
   "metadata": {},
   "source": [
    "Changing the object dtypes which are Geography and Gender with get dummies."
   ]
  },
  {
   "cell_type": "code",
   "execution_count": 18,
   "metadata": {},
   "outputs": [],
   "source": [
    "df = pd.get_dummies(df, drop_first=True)"
   ]
  },
  {
   "cell_type": "code",
   "execution_count": 19,
   "metadata": {},
   "outputs": [
    {
     "data": {
      "text/html": [
       "<div>\n",
       "<style scoped>\n",
       "    .dataframe tbody tr th:only-of-type {\n",
       "        vertical-align: middle;\n",
       "    }\n",
       "\n",
       "    .dataframe tbody tr th {\n",
       "        vertical-align: top;\n",
       "    }\n",
       "\n",
       "    .dataframe thead th {\n",
       "        text-align: right;\n",
       "    }\n",
       "</style>\n",
       "<table border=\"1\" class=\"dataframe\">\n",
       "  <thead>\n",
       "    <tr style=\"text-align: right;\">\n",
       "      <th></th>\n",
       "      <th>CreditScore</th>\n",
       "      <th>Age</th>\n",
       "      <th>Tenure</th>\n",
       "      <th>Balance</th>\n",
       "      <th>NumOfProducts</th>\n",
       "      <th>HasCrCard</th>\n",
       "      <th>IsActiveMember</th>\n",
       "      <th>EstimatedSalary</th>\n",
       "      <th>Exited</th>\n",
       "      <th>Geography_Germany</th>\n",
       "      <th>Geography_Spain</th>\n",
       "      <th>Gender_Male</th>\n",
       "    </tr>\n",
       "  </thead>\n",
       "  <tbody>\n",
       "    <tr>\n",
       "      <td>0</td>\n",
       "      <td>619</td>\n",
       "      <td>42</td>\n",
       "      <td>2.0</td>\n",
       "      <td>0.00</td>\n",
       "      <td>1</td>\n",
       "      <td>1</td>\n",
       "      <td>1</td>\n",
       "      <td>101348.88</td>\n",
       "      <td>1</td>\n",
       "      <td>0</td>\n",
       "      <td>0</td>\n",
       "      <td>0</td>\n",
       "    </tr>\n",
       "    <tr>\n",
       "      <td>1</td>\n",
       "      <td>608</td>\n",
       "      <td>41</td>\n",
       "      <td>1.0</td>\n",
       "      <td>83807.86</td>\n",
       "      <td>1</td>\n",
       "      <td>0</td>\n",
       "      <td>1</td>\n",
       "      <td>112542.58</td>\n",
       "      <td>0</td>\n",
       "      <td>0</td>\n",
       "      <td>1</td>\n",
       "      <td>0</td>\n",
       "    </tr>\n",
       "    <tr>\n",
       "      <td>2</td>\n",
       "      <td>502</td>\n",
       "      <td>42</td>\n",
       "      <td>8.0</td>\n",
       "      <td>159660.80</td>\n",
       "      <td>3</td>\n",
       "      <td>1</td>\n",
       "      <td>0</td>\n",
       "      <td>113931.57</td>\n",
       "      <td>1</td>\n",
       "      <td>0</td>\n",
       "      <td>0</td>\n",
       "      <td>0</td>\n",
       "    </tr>\n",
       "    <tr>\n",
       "      <td>3</td>\n",
       "      <td>699</td>\n",
       "      <td>39</td>\n",
       "      <td>1.0</td>\n",
       "      <td>0.00</td>\n",
       "      <td>2</td>\n",
       "      <td>0</td>\n",
       "      <td>0</td>\n",
       "      <td>93826.63</td>\n",
       "      <td>0</td>\n",
       "      <td>0</td>\n",
       "      <td>0</td>\n",
       "      <td>0</td>\n",
       "    </tr>\n",
       "    <tr>\n",
       "      <td>4</td>\n",
       "      <td>850</td>\n",
       "      <td>43</td>\n",
       "      <td>2.0</td>\n",
       "      <td>125510.82</td>\n",
       "      <td>1</td>\n",
       "      <td>1</td>\n",
       "      <td>1</td>\n",
       "      <td>79084.10</td>\n",
       "      <td>0</td>\n",
       "      <td>0</td>\n",
       "      <td>1</td>\n",
       "      <td>0</td>\n",
       "    </tr>\n",
       "  </tbody>\n",
       "</table>\n",
       "</div>"
      ],
      "text/plain": [
       "   CreditScore  Age  Tenure    Balance  NumOfProducts  HasCrCard  \\\n",
       "0          619   42     2.0       0.00              1          1   \n",
       "1          608   41     1.0   83807.86              1          0   \n",
       "2          502   42     8.0  159660.80              3          1   \n",
       "3          699   39     1.0       0.00              2          0   \n",
       "4          850   43     2.0  125510.82              1          1   \n",
       "\n",
       "   IsActiveMember  EstimatedSalary  Exited  Geography_Germany  \\\n",
       "0               1        101348.88       1                  0   \n",
       "1               1        112542.58       0                  0   \n",
       "2               0        113931.57       1                  0   \n",
       "3               0         93826.63       0                  0   \n",
       "4               1         79084.10       0                  0   \n",
       "\n",
       "   Geography_Spain  Gender_Male  \n",
       "0                0            0  \n",
       "1                1            0  \n",
       "2                0            0  \n",
       "3                0            0  \n",
       "4                1            0  "
      ]
     },
     "execution_count": 19,
     "metadata": {},
     "output_type": "execute_result"
    }
   ],
   "source": [
    "df.head()"
   ]
  },
  {
   "cell_type": "code",
   "execution_count": 20,
   "metadata": {},
   "outputs": [
    {
     "data": {
      "image/png": "[encoded data removed]",
      "text/plain": [
       "<Figure size 864x720 with 2 Axes>"
      ]
     },
     "metadata": {
      "needs_background": "light"
     },
     "output_type": "display_data"
    }
   ],
   "source": [
    "plt.figure(figsize=(12,10))\n",
    "sns.heatmap(df.corr(), annot=True, cmap=\"YlGnBu\")\n",
    "plt.title(\"Heatmap Correlation With Get Dummies\")\n",
    "plt.show()"
   ]
  },
  {
   "cell_type": "code",
   "execution_count": 21,
   "metadata": {},
   "outputs": [
    {
     "data": {
      "text/plain": [
       "Exited               1.000000\n",
       "Age                  0.285323\n",
       "Geography_Germany    0.173488\n",
       "Balance              0.118533\n",
       "EstimatedSalary      0.012097\n",
       "HasCrCard           -0.007138\n",
       "Tenure              -0.013319\n",
       "CreditScore         -0.027094\n",
       "NumOfProducts       -0.047820\n",
       "Geography_Spain     -0.052667\n",
       "Gender_Male         -0.106512\n",
       "IsActiveMember      -0.156128\n",
       "Name: Exited, dtype: float64"
      ]
     },
     "execution_count": 21,
     "metadata": {},
     "output_type": "execute_result"
    }
   ],
   "source": [
    "# Correlation with get dummies\n",
    "df.corr()['Exited'].sort_values(ascending=False)"
   ]
  },
  {
   "cell_type": "markdown",
   "metadata": {},
   "source": [
    "Age, Geography Germany and Balance has strong positive correlation with Exited. IsActiveMember has strong negative correlation with Exited."
   ]
  },
  {
   "cell_type": "code",
   "execution_count": 22,
   "metadata": {},
   "outputs": [
    {
     "data": {
      "text/plain": [
       "0"
      ]
     },
     "execution_count": 22,
     "metadata": {},
     "output_type": "execute_result"
    }
   ],
   "source": [
    "df.duplicated().sum()"
   ]
  },
  {
   "cell_type": "code",
   "execution_count": 23,
   "metadata": {},
   "outputs": [
    {
     "data": {
      "text/html": [
       "<div>\n",
       "<style scoped>\n",
       "    .dataframe tbody tr th:only-of-type {\n",
       "        vertical-align: middle;\n",
       "    }\n",
       "\n",
       "    .dataframe tbody tr th {\n",
       "        vertical-align: top;\n",
       "    }\n",
       "\n",
       "    .dataframe thead th {\n",
       "        text-align: right;\n",
       "    }\n",
       "</style>\n",
       "<table border=\"1\" class=\"dataframe\">\n",
       "  <thead>\n",
       "    <tr style=\"text-align: right;\">\n",
       "      <th></th>\n",
       "      <th>CreditScore</th>\n",
       "      <th>Age</th>\n",
       "      <th>Tenure</th>\n",
       "      <th>Balance</th>\n",
       "      <th>NumOfProducts</th>\n",
       "      <th>HasCrCard</th>\n",
       "      <th>IsActiveMember</th>\n",
       "      <th>EstimatedSalary</th>\n",
       "      <th>Exited</th>\n",
       "      <th>Geography_Germany</th>\n",
       "      <th>Geography_Spain</th>\n",
       "      <th>Gender_Male</th>\n",
       "    </tr>\n",
       "  </thead>\n",
       "  <tbody>\n",
       "    <tr>\n",
       "      <td>1337</td>\n",
       "      <td>710</td>\n",
       "      <td>30</td>\n",
       "      <td>10.0</td>\n",
       "      <td>133537.10</td>\n",
       "      <td>2</td>\n",
       "      <td>1</td>\n",
       "      <td>0</td>\n",
       "      <td>155593.74</td>\n",
       "      <td>0</td>\n",
       "      <td>1</td>\n",
       "      <td>0</td>\n",
       "      <td>0</td>\n",
       "    </tr>\n",
       "    <tr>\n",
       "      <td>9533</td>\n",
       "      <td>651</td>\n",
       "      <td>45</td>\n",
       "      <td>6.0</td>\n",
       "      <td>86714.06</td>\n",
       "      <td>1</td>\n",
       "      <td>1</td>\n",
       "      <td>0</td>\n",
       "      <td>85869.89</td>\n",
       "      <td>1</td>\n",
       "      <td>1</td>\n",
       "      <td>0</td>\n",
       "      <td>0</td>\n",
       "    </tr>\n",
       "    <tr>\n",
       "      <td>3035</td>\n",
       "      <td>817</td>\n",
       "      <td>45</td>\n",
       "      <td>9.0</td>\n",
       "      <td>101207.75</td>\n",
       "      <td>1</td>\n",
       "      <td>0</td>\n",
       "      <td>0</td>\n",
       "      <td>88211.12</td>\n",
       "      <td>1</td>\n",
       "      <td>1</td>\n",
       "      <td>0</td>\n",
       "      <td>1</td>\n",
       "    </tr>\n",
       "    <tr>\n",
       "      <td>2563</td>\n",
       "      <td>843</td>\n",
       "      <td>27</td>\n",
       "      <td>5.0</td>\n",
       "      <td>0.00</td>\n",
       "      <td>2</td>\n",
       "      <td>1</td>\n",
       "      <td>1</td>\n",
       "      <td>67494.23</td>\n",
       "      <td>0</td>\n",
       "      <td>0</td>\n",
       "      <td>0</td>\n",
       "      <td>0</td>\n",
       "    </tr>\n",
       "    <tr>\n",
       "      <td>5406</td>\n",
       "      <td>516</td>\n",
       "      <td>47</td>\n",
       "      <td>6.0</td>\n",
       "      <td>109387.33</td>\n",
       "      <td>1</td>\n",
       "      <td>0</td>\n",
       "      <td>0</td>\n",
       "      <td>121365.45</td>\n",
       "      <td>0</td>\n",
       "      <td>0</td>\n",
       "      <td>0</td>\n",
       "      <td>0</td>\n",
       "    </tr>\n",
       "  </tbody>\n",
       "</table>\n",
       "</div>"
      ],
      "text/plain": [
       "      CreditScore  Age  Tenure    Balance  NumOfProducts  HasCrCard  \\\n",
       "1337          710   30    10.0  133537.10              2          1   \n",
       "9533          651   45     6.0   86714.06              1          1   \n",
       "3035          817   45     9.0  101207.75              1          0   \n",
       "2563          843   27     5.0       0.00              2          1   \n",
       "5406          516   47     6.0  109387.33              1          0   \n",
       "\n",
       "      IsActiveMember  EstimatedSalary  Exited  Geography_Germany  \\\n",
       "1337               0        155593.74       0                  1   \n",
       "9533               0         85869.89       1                  1   \n",
       "3035               0         88211.12       1                  1   \n",
       "2563               1         67494.23       0                  0   \n",
       "5406               0        121365.45       0                  0   \n",
       "\n",
       "      Geography_Spain  Gender_Male  \n",
       "1337                0            0  \n",
       "9533                0            0  \n",
       "3035                0            1  \n",
       "2563                0            0  \n",
       "5406                0            0  "
      ]
     },
     "execution_count": 23,
     "metadata": {},
     "output_type": "execute_result"
    }
   ],
   "source": [
    "df.sample(5)"
   ]
  },
  {
   "cell_type": "markdown",
   "metadata": {},
   "source": [
    "## Conclusion"
   ]
  },
  {
   "cell_type": "markdown",
   "metadata": {},
   "source": [
    "- There are 14 columns and 10000 rows.\n",
    "- Tenure has missing values 999 rows or 9% of the data.\n",
    "- Replace the Tenure missing values with 0, assuming that 0 might be less than a year of Tenure or in certain month\n",
    "- There is no duplicate\n",
    "- Removing Columns that are not needed and not related for the model which are RowNumber, CustomerID, Surname.\n",
    "- Changing the object dtypes which are Geography and Gender with get dummies.\n",
    "- Age, Geography Germany and Balance has strong positive correlation with Exited. IsActiveMember has strong negative correlation with Exited."
   ]
  },
  {
   "cell_type": "markdown",
   "metadata": {},
   "source": [
    "# Step 2.  Train Machine Learning Model  <a class=\"anchor\" id=\"modeltrain\"></a>\n",
    "Examine the balance of classes. Train the model without taking into account the imbalance. Briefly describe the findings."
   ]
  },
  {
   "cell_type": "markdown",
   "metadata": {},
   "source": [
    "Splitting the data"
   ]
  },
  {
   "cell_type": "code",
   "execution_count": 24,
   "metadata": {},
   "outputs": [],
   "source": [
    "X = df.drop(['Exited'], axis=1)\n",
    "y = df['Exited']"
   ]
  },
  {
   "cell_type": "code",
   "execution_count": 25,
   "metadata": {},
   "outputs": [],
   "source": [
    "X_train, X_valid, y_train, y_valid = train_test_split(X, y, train_size=0.6, test_size=0.4, random_state=12345)\n",
    "X_test, X_valid, y_test, y_valid = train_test_split(X_valid, y_valid, test_size=0.5, random_state=12345)"
   ]
  },
  {
   "cell_type": "code",
   "execution_count": 26,
   "metadata": {},
   "outputs": [
    {
     "name": "stdout",
     "output_type": "stream",
     "text": [
      "Training set size: 6000\n",
      "Validating set size: 2000\n",
      "Test set size: 2000\n"
     ]
    }
   ],
   "source": [
    "print('Training set size:', X_train.shape[0])\n",
    "print('Validating set size:', X_valid.shape[0])\n",
    "print('Test set size:',X_test.shape[0])"
   ]
  },
  {
   "cell_type": "markdown",
   "metadata": {},
   "source": [
    "Checking balance of class"
   ]
  },
  {
   "cell_type": "code",
   "execution_count": 27,
   "metadata": {},
   "outputs": [
    {
     "data": {
      "image/png": "[encoded data removed]",
      "text/plain": [
       "<Figure size 432x288 with 1 Axes>"
      ]
     },
     "metadata": {
      "needs_background": "light"
     },
     "output_type": "display_data"
    }
   ],
   "source": [
    "sns.countplot(df['Exited'])\n",
    "plt.show()"
   ]
  },
  {
   "cell_type": "code",
   "execution_count": 28,
   "metadata": {},
   "outputs": [
    {
     "data": {
      "text/plain": [
       "0    79.63\n",
       "1    20.37\n",
       "Name: Exited, dtype: float64"
      ]
     },
     "execution_count": 28,
     "metadata": {},
     "output_type": "execute_result"
    }
   ],
   "source": [
    "df['Exited'].value_counts()/len(df) * 100"
   ]
  },
  {
   "cell_type": "markdown",
   "metadata": {},
   "source": [
    "We can see the class is imbalanced."
   ]
  },
  {
   "cell_type": "markdown",
   "metadata": {},
   "source": [
    "Train the model without taking into account the imbalance."
   ]
  },
  {
   "cell_type": "markdown",
   "metadata": {},
   "source": [
    "## Logistic Regression"
   ]
  },
  {
   "cell_type": "code",
   "execution_count": 29,
   "metadata": {},
   "outputs": [
    {
     "name": "stdout",
     "output_type": "stream",
     "text": [
      "Accuracy is: 0.7875\n",
      "F1_Score is: 0.13441955193482688\n"
     ]
    },
    {
     "data": {
      "text/plain": [
       "array([[1542,   35],\n",
       "       [ 390,   33]])"
      ]
     },
     "execution_count": 29,
     "metadata": {},
     "output_type": "execute_result"
    }
   ],
   "source": [
    "LR_model = LogisticRegression(random_state=12345, solver='liblinear')\n",
    "LR_model.fit(X_train, y_train)\n",
    "predicted_valid = LR_model.predict(X_valid)\n",
    "accuracy_valid = accuracy_score(y_valid, predicted_valid)\n",
    "print('Accuracy is:', accuracy_valid)\n",
    "print('F1_Score is:', f1_score(y_valid, predicted_valid))\n",
    "\n",
    "confusion_matrix(y_valid, predicted_valid)"
   ]
  },
  {
   "cell_type": "markdown",
   "metadata": {},
   "source": [
    "## Random Forest Classifier"
   ]
  },
  {
   "cell_type": "code",
   "execution_count": 30,
   "metadata": {},
   "outputs": [
    {
     "name": "stdout",
     "output_type": "stream",
     "text": [
      "Estimator: 10 Accuracy: 0.8435 F1_Score is: 0.5162287480680061\n",
      "Estimator: 15 Accuracy: 0.839 F1_Score is: 0.5278592375366569\n",
      "Estimator: 20 Accuracy: 0.842 F1_Score is: 0.5123456790123456\n",
      "Estimator: 25 Accuracy: 0.8465 F1_Score is: 0.5397301349325337\n",
      "Estimator: 30 Accuracy: 0.845 F1_Score is: 0.5245398773006135\n",
      "Estimator: 35 Accuracy: 0.8495 F1_Score is: 0.5487256371814092\n",
      "Estimator: 40 Accuracy: 0.847 F1_Score is: 0.5321100917431193\n",
      "Estimator: 45 Accuracy: 0.8465 F1_Score is: 0.5411061285500747\n",
      "Estimator: 50 Accuracy: 0.849 F1_Score is: 0.5438066465256798\n",
      "Estimator: 55 Accuracy: 0.852 F1_Score is: 0.5568862275449102\n",
      "Estimator: 60 Accuracy: 0.848 F1_Score is: 0.5365853658536586\n",
      "Estimator: 65 Accuracy: 0.8485 F1_Score is: 0.5416036308623298\n",
      "Estimator: 70 Accuracy: 0.849 F1_Score is: 0.5424242424242424\n",
      "Estimator: 75 Accuracy: 0.8475 F1_Score is: 0.542728635682159\n",
      "Estimator: 80 Accuracy: 0.8485 F1_Score is: 0.5443609022556392\n",
      "Estimator: 85 Accuracy: 0.8475 F1_Score is: 0.5468053491827638\n",
      "Estimator: 90 Accuracy: 0.8475 F1_Score is: 0.5399698340874811\n",
      "Estimator: 95 Accuracy: 0.847 F1_Score is: 0.5419161676646705\n",
      "Estimator: 100 Accuracy: 0.8455 F1_Score is: 0.5311077389984825\n"
     ]
    },
    {
     "data": {
      "text/html": [
       "<div>\n",
       "<style scoped>\n",
       "    .dataframe tbody tr th:only-of-type {\n",
       "        vertical-align: middle;\n",
       "    }\n",
       "\n",
       "    .dataframe tbody tr th {\n",
       "        vertical-align: top;\n",
       "    }\n",
       "\n",
       "    .dataframe thead th {\n",
       "        text-align: right;\n",
       "    }\n",
       "</style>\n",
       "<table border=\"1\" class=\"dataframe\">\n",
       "  <thead>\n",
       "    <tr style=\"text-align: right;\">\n",
       "      <th></th>\n",
       "      <th>estim</th>\n",
       "      <th>accuracy</th>\n",
       "      <th>f1_score</th>\n",
       "    </tr>\n",
       "  </thead>\n",
       "  <tbody>\n",
       "    <tr>\n",
       "      <td>9</td>\n",
       "      <td>55</td>\n",
       "      <td>0.8520</td>\n",
       "      <td>0.556886</td>\n",
       "    </tr>\n",
       "    <tr>\n",
       "      <td>5</td>\n",
       "      <td>35</td>\n",
       "      <td>0.8495</td>\n",
       "      <td>0.548726</td>\n",
       "    </tr>\n",
       "    <tr>\n",
       "      <td>15</td>\n",
       "      <td>85</td>\n",
       "      <td>0.8475</td>\n",
       "      <td>0.546805</td>\n",
       "    </tr>\n",
       "    <tr>\n",
       "      <td>14</td>\n",
       "      <td>80</td>\n",
       "      <td>0.8485</td>\n",
       "      <td>0.544361</td>\n",
       "    </tr>\n",
       "    <tr>\n",
       "      <td>8</td>\n",
       "      <td>50</td>\n",
       "      <td>0.8490</td>\n",
       "      <td>0.543807</td>\n",
       "    </tr>\n",
       "  </tbody>\n",
       "</table>\n",
       "</div>"
      ],
      "text/plain": [
       "    estim  accuracy  f1_score\n",
       "9      55    0.8520  0.556886\n",
       "5      35    0.8495  0.548726\n",
       "15     85    0.8475  0.546805\n",
       "14     80    0.8485  0.544361\n",
       "8      50    0.8490  0.543807"
      ]
     },
     "metadata": {},
     "output_type": "display_data"
    },
    {
     "data": {
      "image/png": "[encoded data removed]",
      "text/plain": [
       "<Figure size 720x720 with 2 Axes>"
      ]
     },
     "metadata": {
      "needs_background": "light"
     },
     "output_type": "display_data"
    }
   ],
   "source": [
    "d = defaultdict(list)\n",
    "estimators = []\n",
    "RFC_accuracy = []\n",
    "f1score_accuracy=[]\n",
    "fig, (ax1,ax2) = plt.subplots(2,1, figsize=(10,10))\n",
    "\n",
    "\n",
    "for estim in range(10,101,5):\n",
    "    model = RandomForestClassifier(random_state=12345, n_estimators=estim)\n",
    "    model.fit(X_train, y_train)\n",
    "    y_pred = model.predict(X_valid)\n",
    "    score = accuracy_score(y_valid, y_pred)\n",
    "    f1score = f1_score(y_valid, y_pred)\n",
    "    estimators.append(estim)\n",
    "    RFC_accuracy.append(score)\n",
    "    f1score_accuracy.append(f1score)\n",
    "    d['estim'].append(estim)\n",
    "    d['accuracy'].append(score)\n",
    "    d['f1_score'].append(f1score)\n",
    "    print('Estimator:', estim, end='')\n",
    "    print(' Accuracy:', score, end='')\n",
    "    print(' F1_Score is:', f1score)\n",
    "display(pd.DataFrame(d).sort_values(by='f1_score',ascending=False).head())\n",
    "sns.lineplot(data=pd.DataFrame(data=f1score_accuracy, index=estimators), ax=ax1)\n",
    "sns.lineplot(data=pd.DataFrame(data=RFC_accuracy, index=estimators), ax=ax2)\n",
    "ax1.set_title(\"F1 Score at Different Estimators\", fontsize=15) \n",
    "ax1.set_ylabel(\"F1 Score\")\n",
    "ax1.legend('')\n",
    "ax2.set_title(\"Accuracy Score at Different Estimators\", fontsize=15) \n",
    "ax2.set_ylabel(\"Accuracies\") \n",
    "ax2.legend('')\n",
    "plt.xlabel('Estimators')\n",
    "plt.show()"
   ]
  },
  {
   "cell_type": "markdown",
   "metadata": {},
   "source": [
    "The best Random Forest Classifier is with n_estimators 55, accuracy 0.852 and f1 score is 0.557"
   ]
  },
  {
   "cell_type": "markdown",
   "metadata": {},
   "source": [
    "## Conclusion"
   ]
  },
  {
   "cell_type": "markdown",
   "metadata": {},
   "source": [
    "- The target or y is Exited\n",
    "- The features or X are CreditScore, Age, Tenure, Balance, NumOfProducts, HasCrCard, IsActiveMember, EstimatedSalary, Exited, Geography_Germany, Geography_Spain,  Gender_Male\n",
    "- The ratio of train : valid : test = 6 : 2 : 2\n",
    "- Logistic Regression model has Accuracy: 0.7875 and F1_Score: 0.13441955193482688\n",
    "- The best Random Forest Classifier is with n_estimators 55, accuracy 0.852 and F1 score is 0.557"
   ]
  },
  {
   "cell_type": "markdown",
   "metadata": {},
   "source": [
    "# Step 3. Improve Machine Learning model Quality  <a class=\"anchor\" id=\"improve\"></a>\n",
    "Improve the quality of the model. Use at least two approaches to fixing class imbalance. Use the training set to pick the best parameters. Train different models on training and validation sets. Find the best one. Briefly describe the findings."
   ]
  },
  {
   "cell_type": "markdown",
   "metadata": {},
   "source": [
    "Normalization/ Standardizing using StandardScaler"
   ]
  },
  {
   "cell_type": "code",
   "execution_count": 31,
   "metadata": {},
   "outputs": [],
   "source": [
    "scaler = StandardScaler()\n",
    "scaler.fit(X_train)\n",
    "scaled_X_train = scaler.transform(X_train)\n",
    "scaled_X_valid = scaler.transform(X_valid)\n",
    "scaled_X_test = scaler.transform(X_test)\n",
    "df_scaled_X_train = pd.DataFrame(scaler.transform(X_train), columns = X_train.columns, index=X_train.index)"
   ]
  },
  {
   "cell_type": "markdown",
   "metadata": {},
   "source": [
    "## Logistic Regression with Class Weight = balanced"
   ]
  },
  {
   "cell_type": "code",
   "execution_count": 32,
   "metadata": {},
   "outputs": [
    {
     "name": "stdout",
     "output_type": "stream",
     "text": [
      "Accuracy is: 0.6985\n",
      "F1_Score is: 0.4797238999137188\n"
     ]
    },
    {
     "data": {
      "text/plain": [
       "array([[1119,  458],\n",
       "       [ 145,  278]])"
      ]
     },
     "execution_count": 32,
     "metadata": {},
     "output_type": "execute_result"
    }
   ],
   "source": [
    "LR_model = LogisticRegression(random_state=12345, solver='liblinear', class_weight='balanced')\n",
    "LR_model.fit(scaled_X_train, y_train)\n",
    "predicted_valid = LR_model.predict(scaled_X_valid)\n",
    "accuracy_valid = accuracy_score(y_valid, predicted_valid)\n",
    "print('Accuracy is:', accuracy_valid)\n",
    "print('F1_Score is:', f1_score(y_valid, predicted_valid))\n",
    "\n",
    "confusion_matrix(y_valid, predicted_valid)"
   ]
  },
  {
   "cell_type": "markdown",
   "metadata": {},
   "source": [
    "## Random Forest Classifier with Class Weight = balanced"
   ]
  },
  {
   "cell_type": "code",
   "execution_count": 33,
   "metadata": {},
   "outputs": [
    {
     "name": "stdout",
     "output_type": "stream",
     "text": [
      "Estimator: 50 Max Depth: 10 Accuracy: 0.834 F1_Score is: 0.6028708133971291\n",
      "Estimator: 50 Max Depth: 11 Accuracy: 0.8415 F1_Score is: 0.59514687100894\n",
      "Estimator: 50 Max Depth: 12 Accuracy: 0.8375 F1_Score is: 0.5706737120211359\n",
      "Estimator: 50 Max Depth: 13 Accuracy: 0.8485 F1_Score is: 0.5738396624472574\n",
      "Estimator: 50 Max Depth: 14 Accuracy: 0.8545 F1_Score is: 0.5776487663280118\n",
      "Estimator: 55 Max Depth: 10 Accuracy: 0.833 F1_Score is: 0.5995203836930455\n",
      "Estimator: 55 Max Depth: 11 Accuracy: 0.8445 F1_Score is: 0.6007702182284981\n",
      "Estimator: 55 Max Depth: 12 Accuracy: 0.842 F1_Score is: 0.582010582010582\n",
      "Estimator: 55 Max Depth: 13 Accuracy: 0.848 F1_Score is: 0.5754189944134078\n",
      "Estimator: 55 Max Depth: 14 Accuracy: 0.8535 F1_Score is: 0.5784172661870504\n",
      "Estimator: 60 Max Depth: 10 Accuracy: 0.8335 F1_Score is: 0.6021505376344086\n",
      "Estimator: 60 Max Depth: 11 Accuracy: 0.847 F1_Score is: 0.6056701030927836\n",
      "Estimator: 60 Max Depth: 12 Accuracy: 0.8415 F1_Score is: 0.5823451910408431\n",
      "Estimator: 60 Max Depth: 13 Accuracy: 0.847 F1_Score is: 0.5714285714285714\n",
      "Estimator: 60 Max Depth: 14 Accuracy: 0.854 F1_Score is: 0.5792507204610952\n",
      "Estimator: 65 Max Depth: 10 Accuracy: 0.8345 F1_Score is: 0.6054827175208582\n",
      "Estimator: 65 Max Depth: 11 Accuracy: 0.8425 F1_Score is: 0.5966709346991037\n",
      "Estimator: 65 Max Depth: 12 Accuracy: 0.8425 F1_Score is: 0.5816733067729083\n",
      "Estimator: 65 Max Depth: 13 Accuracy: 0.848 F1_Score is: 0.5789473684210527\n",
      "Estimator: 65 Max Depth: 14 Accuracy: 0.852 F1_Score is: 0.574712643678161\n",
      "Estimator: 70 Max Depth: 10 Accuracy: 0.8345 F1_Score is: 0.6045400238948625\n",
      "Estimator: 70 Max Depth: 11 Accuracy: 0.8415 F1_Score is: 0.5982256020278833\n",
      "Estimator: 70 Max Depth: 12 Accuracy: 0.843 F1_Score is: 0.5824468085106383\n",
      "Estimator: 70 Max Depth: 13 Accuracy: 0.848 F1_Score is: 0.5789473684210527\n",
      "Estimator: 70 Max Depth: 14 Accuracy: 0.8525 F1_Score is: 0.5767575322812052\n",
      "Estimator: 75 Max Depth: 10 Accuracy: 0.8365 F1_Score is: 0.6083832335329341\n",
      "Estimator: 75 Max Depth: 11 Accuracy: 0.8425 F1_Score is: 0.6007604562737644\n",
      "Estimator: 75 Max Depth: 12 Accuracy: 0.8435 F1_Score is: 0.5832223701731025\n",
      "Estimator: 75 Max Depth: 13 Accuracy: 0.848 F1_Score is: 0.5801104972375691\n",
      "Estimator: 75 Max Depth: 14 Accuracy: 0.8515 F1_Score is: 0.5738880918220947\n",
      "Estimator: 80 Max Depth: 10 Accuracy: 0.84 F1_Score is: 0.6153846153846153\n",
      "Estimator: 80 Max Depth: 11 Accuracy: 0.8415 F1_Score is: 0.5972045743329097\n",
      "Estimator: 80 Max Depth: 12 Accuracy: 0.8435 F1_Score is: 0.5832223701731025\n",
      "Estimator: 80 Max Depth: 13 Accuracy: 0.8495 F1_Score is: 0.5825242718446602\n",
      "Estimator: 80 Max Depth: 14 Accuracy: 0.8525 F1_Score is: 0.5755395683453238\n",
      "Estimator: 85 Max Depth: 10 Accuracy: 0.8395 F1_Score is: 0.6146458583433373\n",
      "Estimator: 85 Max Depth: 11 Accuracy: 0.842 F1_Score is: 0.5989847715736041\n",
      "Estimator: 85 Max Depth: 12 Accuracy: 0.8435 F1_Score is: 0.5832223701731025\n",
      "Estimator: 85 Max Depth: 13 Accuracy: 0.85 F1_Score is: 0.5844875346260388\n",
      "Estimator: 85 Max Depth: 14 Accuracy: 0.852 F1_Score is: 0.5734870317002881\n",
      "Estimator: 90 Max Depth: 10 Accuracy: 0.84 F1_Score is: 0.6135265700483091\n",
      "Estimator: 90 Max Depth: 11 Accuracy: 0.844 F1_Score is: 0.6010230179028133\n",
      "Estimator: 90 Max Depth: 12 Accuracy: 0.845 F1_Score is: 0.5877659574468086\n",
      "Estimator: 90 Max Depth: 13 Accuracy: 0.8485 F1_Score is: 0.5774058577405858\n",
      "Estimator: 90 Max Depth: 14 Accuracy: 0.852 F1_Score is: 0.574712643678161\n",
      "Estimator: 95 Max Depth: 10 Accuracy: 0.842 F1_Score is: 0.6183574879227054\n",
      "Estimator: 95 Max Depth: 11 Accuracy: 0.8445 F1_Score is: 0.5987096774193549\n",
      "Estimator: 95 Max Depth: 12 Accuracy: 0.8455 F1_Score is: 0.590728476821192\n",
      "Estimator: 95 Max Depth: 13 Accuracy: 0.8485 F1_Score is: 0.579750346740638\n",
      "Estimator: 95 Max Depth: 14 Accuracy: 0.8505 F1_Score is: 0.5697841726618704\n",
      "Estimator: 100 Max Depth: 10 Accuracy: 0.84 F1_Score is: 0.617224880382775\n",
      "Estimator: 100 Max Depth: 11 Accuracy: 0.844 F1_Score is: 0.597938144329897\n",
      "Estimator: 100 Max Depth: 12 Accuracy: 0.8455 F1_Score is: 0.590728476821192\n",
      "Estimator: 100 Max Depth: 13 Accuracy: 0.8505 F1_Score is: 0.5852981969486825\n",
      "Estimator: 100 Max Depth: 14 Accuracy: 0.8515 F1_Score is: 0.5726618705035971\n"
     ]
    },
    {
     "data": {
      "text/html": [
       "<div>\n",
       "<style scoped>\n",
       "    .dataframe tbody tr th:only-of-type {\n",
       "        vertical-align: middle;\n",
       "    }\n",
       "\n",
       "    .dataframe tbody tr th {\n",
       "        vertical-align: top;\n",
       "    }\n",
       "\n",
       "    .dataframe thead th {\n",
       "        text-align: right;\n",
       "    }\n",
       "</style>\n",
       "<table border=\"1\" class=\"dataframe\">\n",
       "  <thead>\n",
       "    <tr style=\"text-align: right;\">\n",
       "      <th></th>\n",
       "      <th>estim</th>\n",
       "      <th>depth</th>\n",
       "      <th>accuracy</th>\n",
       "      <th>f1_score</th>\n",
       "    </tr>\n",
       "  </thead>\n",
       "  <tbody>\n",
       "    <tr>\n",
       "      <td>45</td>\n",
       "      <td>95</td>\n",
       "      <td>10</td>\n",
       "      <td>0.8420</td>\n",
       "      <td>0.618357</td>\n",
       "    </tr>\n",
       "    <tr>\n",
       "      <td>50</td>\n",
       "      <td>100</td>\n",
       "      <td>10</td>\n",
       "      <td>0.8400</td>\n",
       "      <td>0.617225</td>\n",
       "    </tr>\n",
       "    <tr>\n",
       "      <td>30</td>\n",
       "      <td>80</td>\n",
       "      <td>10</td>\n",
       "      <td>0.8400</td>\n",
       "      <td>0.615385</td>\n",
       "    </tr>\n",
       "    <tr>\n",
       "      <td>35</td>\n",
       "      <td>85</td>\n",
       "      <td>10</td>\n",
       "      <td>0.8395</td>\n",
       "      <td>0.614646</td>\n",
       "    </tr>\n",
       "    <tr>\n",
       "      <td>40</td>\n",
       "      <td>90</td>\n",
       "      <td>10</td>\n",
       "      <td>0.8400</td>\n",
       "      <td>0.613527</td>\n",
       "    </tr>\n",
       "  </tbody>\n",
       "</table>\n",
       "</div>"
      ],
      "text/plain": [
       "    estim  depth  accuracy  f1_score\n",
       "45     95     10    0.8420  0.618357\n",
       "50    100     10    0.8400  0.617225\n",
       "30     80     10    0.8400  0.615385\n",
       "35     85     10    0.8395  0.614646\n",
       "40     90     10    0.8400  0.613527"
      ]
     },
     "execution_count": 33,
     "metadata": {},
     "output_type": "execute_result"
    }
   ],
   "source": [
    "d = defaultdict(list)\n",
    "for estim in range(50,101,5):\n",
    "    for depth in range(10,15):\n",
    "        model = RandomForestClassifier(random_state=12345, n_estimators=estim, max_depth=depth, class_weight='balanced')\n",
    "        model.fit(scaled_X_train, y_train)\n",
    "        y_pred = model.predict(scaled_X_valid)\n",
    "        score = accuracy_score(y_valid, y_pred)\n",
    "        f1score = f1_score(y_valid, y_pred)\n",
    "        d['estim'].append(estim)\n",
    "        d['depth'].append(depth)\n",
    "        d['accuracy'].append(score)\n",
    "        d['f1_score'].append(f1score)\n",
    "        print('Estimator:', estim, end='')\n",
    "        print(' Max Depth:', depth, end='')\n",
    "        print(' Accuracy:', score, end='')\n",
    "        print(' F1_Score is:', f1score)\n",
    "pd.DataFrame(d).sort_values(by='f1_score',ascending=False).head()"
   ]
  },
  {
   "cell_type": "markdown",
   "metadata": {},
   "source": [
    "- Random Forest Classifier with class weight balance and n Estimators 95 and Max Depth 10, Accuracy: 0.8420 and F1_Score is: 0.618357\n",
    "- With the class weight= balanced, this model f1 score is already improved than the previous Random Forest Classifier Model with n_estimators 55 and f1 score is 0.557"
   ]
  },
  {
   "cell_type": "markdown",
   "metadata": {},
   "source": [
    "Let's try to train our model by increasing the sample, duplicate positive observations"
   ]
  },
  {
   "cell_type": "code",
   "execution_count": 34,
   "metadata": {},
   "outputs": [],
   "source": [
    "def upsampling(features, target, repeat):\n",
    "    X_zeros = pd.DataFrame(scaled_X_train[y_train == 0], columns = X_train[y_train == 0].columns, index=X_train[y_train == 0].index)\n",
    "    X_ones = pd.DataFrame(scaled_X_train[y_train == 1], columns = X_train[y_train == 1].columns, index=X_train[y_train == 1].index)\n",
    "    y_zeros = y_train[y_train == 0]\n",
    "    y_ones = y_train[y_train == 1]\n",
    "\n",
    "    X_upsampled = pd.concat([X_zeros] + [X_ones] * repeat)\n",
    "    y_upsampled = pd.concat([y_zeros] + [y_ones] * repeat)\n",
    "    \n",
    "    X_upsampled, y_upsampled = shuffle(X_upsampled, y_upsampled, random_state=12345)\n",
    "    \n",
    "    return X_upsampled, y_upsampled"
   ]
  },
  {
   "cell_type": "code",
   "execution_count": 35,
   "metadata": {},
   "outputs": [
    {
     "name": "stdout",
     "output_type": "stream",
     "text": [
      "Repeats: 1 F1 Score:  0.6021505376344086\n",
      "Repeats: 2 F1 Score:  0.6179401993355481\n",
      "Repeats: 3 F1 Score:  0.6122004357298474\n",
      "Repeats: 4 F1 Score:  0.6070287539936102\n",
      "Repeats: 5 F1 Score:  0.6038543897216274\n",
      "Repeats: 6 F1 Score:  0.6098081023454157\n",
      "Repeats: 7 F1 Score:  0.5976768743400211\n",
      "Repeats: 8 F1 Score:  0.6086956521739131\n",
      "Repeats: 9 F1 Score:  0.6023329798515377\n"
     ]
    }
   ],
   "source": [
    "for repeat in range(1,10,1):\n",
    "    X_upsampled, y_upsampled = upsampling(scaled_X_train, y_train, repeat)\n",
    "\n",
    "    model = RandomForestClassifier(random_state=12345, n_estimators = 95, max_depth=10, class_weight='balanced')\n",
    "    model.fit(X_upsampled, y_upsampled)\n",
    "    y_pred = model.predict(scaled_X_valid)\n",
    "    f1score = f1_score(y_valid, y_pred)\n",
    "    print(\"Repeats:\", repeat, end='')\n",
    "    print(\" F1 Score: \", f1score)"
   ]
  },
  {
   "cell_type": "markdown",
   "metadata": {},
   "source": [
    "The best upsampling with class weigh balanced is with repeats 2 with F1 score 0.6179. It doesn't improve F1 Score."
   ]
  },
  {
   "cell_type": "markdown",
   "metadata": {},
   "source": [
    "Let's try to train our model by reducing the sample, drop a portion of negative observations."
   ]
  },
  {
   "cell_type": "code",
   "execution_count": 36,
   "metadata": {},
   "outputs": [
    {
     "name": "stdout",
     "output_type": "stream",
     "text": [
      "Fractions: 0.03 F1 Score:  0.4083457526080477\n",
      "Fractions: 0.06 F1 Score:  0.4747847478474785\n",
      "Fractions: 0.09 F1 Score:  0.5173635719347981\n",
      "Fractions: 0.12 F1 Score:  0.5301757066462949\n",
      "Fractions: 0.15 F1 Score:  0.5563665855636658\n",
      "Fractions: 0.18 F1 Score:  0.5668085106382978\n",
      "Fractions: 0.21 F1 Score:  0.5790884718498659\n",
      "Fractions: 0.24 F1 Score:  0.5814167433302668\n",
      "Fractions: 0.27 F1 Score:  0.5869980879541109\n",
      "Fractions: 0.30000000000000004 F1 Score:  0.5899419729206964\n",
      "Fractions: 0.32999999999999996 F1 Score:  0.6003976143141153\n",
      "Fractions: 0.36 F1 Score:  0.5888324873096447\n"
     ]
    }
   ],
   "source": [
    "def downsampling(X, y, fraction):\n",
    "    X_zeros = X[y == 0]\n",
    "    X_ones = X[y == 1]\n",
    "    y_zeros = y[y == 0]\n",
    "    y_ones = y[y == 1]\n",
    "\n",
    "    X_downsampled = pd.concat(\n",
    "        [X_zeros.sample(frac=fraction, random_state=12345)] + [X_ones])\n",
    "    y_downsampled = pd.concat(\n",
    "        [y_zeros.sample(frac=fraction, random_state=12345)] + [y_ones])\n",
    "    \n",
    "    X_downsampled, y_downsampled = shuffle(\n",
    "        X_downsampled, y_downsampled, random_state=12345)\n",
    "    \n",
    "    return X_downsampled, y_downsampled\n",
    "\n",
    "for i in np.arange(0.03, 0.37, 0.03):\n",
    "    X_downsampled, y_downsampled = downsampling(df_scaled_X_train, y_train, i)\n",
    "    model = RandomForestClassifier(random_state=12345, n_estimators = 95, max_depth=10, class_weight='balanced')\n",
    "    model.fit(X_downsampled, y_downsampled)\n",
    "    y_pred = model.predict(scaled_X_valid)\n",
    "    f1score = f1_score(y_valid, y_pred)\n",
    "    print(\"Fractions:\", i, end='')\n",
    "    print(\" F1 Score: \", f1score)"
   ]
  },
  {
   "cell_type": "markdown",
   "metadata": {},
   "source": [
    "The best downsampling with class weigh balanced is with fractions 0.33  with F1 score 0.6003. It doesn't improve F1 Score."
   ]
  },
  {
   "cell_type": "markdown",
   "metadata": {},
   "source": [
    "## Conclusion"
   ]
  },
  {
   "cell_type": "markdown",
   "metadata": {},
   "source": [
    "- Using Standard Scaler to normalization the data\n",
    "- Using Class weight = balanced to improve the model f1 score\n",
    "- The best F1 score 0.618357 is achieved using Random Forest Classifier with class weight balance and n Estimators 95 and Max Depth 10, Accuracy: 0.8420\n",
    "- The best upsampling with class weigh balanced is with repeats 2 with F1 score 0.6179.\n",
    "- The best downsampling with class weigh balanced is with fractions 0.33 with F1 score 0.6003.\n",
    "- Upsampling and downsampling are failed to increase F1 score, even though upsampling is still better and closer to the best F1 score than downsampling. "
   ]
  },
  {
   "cell_type": "markdown",
   "metadata": {},
   "source": [
    "# Step 4. Final Testing  <a class=\"anchor\" id=\"test\"></a>"
   ]
  },
  {
   "cell_type": "markdown",
   "metadata": {},
   "source": [
    "Perform the final testing on a test set with the appropriate parameters"
   ]
  },
  {
   "cell_type": "code",
   "execution_count": 37,
   "metadata": {},
   "outputs": [
    {
     "name": "stdout",
     "output_type": "stream",
     "text": [
      "Accuracy is: 0.8425\n",
      "F1_Score is: 0.6227544910179641\n"
     ]
    },
    {
     "data": {
      "text/plain": [
       "array([[1425,  157],\n",
       "       [ 158,  260]])"
      ]
     },
     "execution_count": 37,
     "metadata": {},
     "output_type": "execute_result"
    }
   ],
   "source": [
    "model = RandomForestClassifier(n_estimators = 95, max_depth=10, class_weight='balanced', random_state=12345)\n",
    "model.fit(scaled_X_train, y_train)\n",
    "predicted_test = model.predict(scaled_X_test)\n",
    "\n",
    "accuracy_test = accuracy_score(y_test, predicted_test)\n",
    "print('Accuracy is:', accuracy_test)\n",
    "print('F1_Score is:', f1_score(y_test, predicted_test))\n",
    "confusion_matrix(y_test, predicted_test)"
   ]
  },
  {
   "cell_type": "markdown",
   "metadata": {},
   "source": [
    "## ROC Curve"
   ]
  },
  {
   "cell_type": "code",
   "execution_count": 38,
   "metadata": {},
   "outputs": [],
   "source": [
    "probs = model.predict_proba(scaled_X_test)\n",
    "probs_one = probs[:,1]"
   ]
  },
  {
   "cell_type": "code",
   "execution_count": 39,
   "metadata": {},
   "outputs": [
    {
     "name": "stdout",
     "output_type": "stream",
     "text": [
      "ROC Auc Score is 0.8503801740876729\n"
     ]
    }
   ],
   "source": [
    "auc_roc = roc_auc_score(y_test, probs_one)\n",
    "print('ROC Auc Score is', auc_roc)"
   ]
  },
  {
   "cell_type": "code",
   "execution_count": 43,
   "metadata": {},
   "outputs": [],
   "source": [
    "precision, recall, thresholds = precision_recall_curve(y_test, model.predict_proba(scaled_X_test)[:,1])"
   ]
  },
  {
   "cell_type": "code",
   "execution_count": 44,
   "metadata": {},
   "outputs": [
    {
     "data": {
      "image/png": "[encoded data removed]",
      "text/plain": [
       "<Figure size 720x432 with 1 Axes>"
      ]
     },
     "metadata": {
      "needs_background": "light"
     },
     "output_type": "display_data"
    }
   ],
   "source": [
    "fpr, tpr, thresholds = roc_curve(y_test, probs_one)\n",
    "\n",
    "plt.figure(figsize=(10,6))\n",
    "plt.plot(recall, precision, label='PRC')\n",
    "plt.plot(fpr, tpr, label='ROC')\n",
    "plt.xlabel('Recall')\n",
    "plt.ylabel('Precision')\n",
    "plt.ylim([0.0, 1.05])\n",
    "plt.xlim([0.0, 1.0])\n",
    "plt.title('Precision-Recall and ROC Curve')\n",
    "plt.legend(loc=\"lower right\")\n",
    "\n",
    "plt.plot(fpr, tpr)\n",
    "\n",
    "plt.show()"
   ]
  },
  {
   "cell_type": "markdown",
   "metadata": {},
   "source": [
    "## Conclusion"
   ]
  },
  {
   "cell_type": "markdown",
   "metadata": {},
   "source": [
    "- For test set, we use Random Forest Classifier model with n_estimators = 95, max_depth=10, and class_weight='balanced'\n",
    "- F1 score for the test set is 0.6227, it's greater than F1 score target of at least 0.59 \n",
    "- Accuracy for test set is: 0.8425\n",
    "- ROC AUC Score for test set is 0.8503801740876729 "
   ]
  },
  {
   "cell_type": "markdown",
   "metadata": {},
   "source": [
    "# Step 5. Overall Conclusion  <a class=\"anchor\" id=\"allconclusion\"></a>"
   ]
  },
  {
   "cell_type": "markdown",
   "metadata": {},
   "source": [
    "- We train the model with Logistic Regression and Random Forest Classifier\n",
    "- Logistic Regression model has Accuracy: 0.7875 and F1_Score: 0.13441955193482688. It has very low F1 score.\n",
    "- Random Forest Classifier with n_estimators 55 has accuracy 0.852 and F1 score is 0.557. It's still lower than F1 score target of at least 0.59\n",
    "- Using StandardScaler to Normalization/ Standardizing the data and after spliting the data using train test split\n",
    "- Using Class weight = balanced to improve the model F1 score\n",
    "- Improving Random Forest Classifier with the best parameter of n Estimators 95, Max Depth 10, class weight balanced. It has the best F1_Score: 0.618357 and Accuracy: 0.8420. \n",
    "- Upsampling and downsampling are failed to increase F1 score, even though upsampling is still better and closer to the best F1 score than downsampling.\n",
    "- F1 score for the test set is 0.6227, it's greater than F1 score target of at least 0.59\n",
    "- Accuracy for test set is: 0.8425\n",
    "- ROC AUC Score for test set is 0.8503801740876729\n",
    "- F1 Score keeps a balance between Precision and Recall. We use F1 score if there is imbalance class distribution, because precision and recall can give misleading results and ROC averages over all possible thresholds. We use ROC AUC if we care about ranking predictions and is not heavily imbalanced. For this task, it makes sense that we use F1 score metric to measure of our model accuracy on dataset."
   ]
  }
 ],
 "metadata": {
  "kernelspec": {
   "display_name": "Python 3",
   "language": "python",
   "name": "python3"
  },
  "language_info": {
   "codemirror_mode": {
    "name": "ipython",
    "version": 3
   },
   "file_extension": ".py",
   "mimetype": "text/x-python",
   "name": "python",
   "nbconvert_exporter": "python",
   "pygments_lexer": "ipython3",
   "version": "3.8.3"
  },
  "toc": {
   "base_numbering": "1",
   "nav_menu": {},
   "number_sections": false,
   "sideBar": true,
   "skip_h1_title": false,
   "title_cell": "Table of Contents",
   "title_sidebar": "Contents",
   "toc_cell": false,
   "toc_position": {
    "height": "calc(100% - 180px)",
    "left": "10px",
    "top": "150px",
    "width": "512px"
   },
   "toc_section_display": true,
   "toc_window_display": false
  }
 },
 "nbformat": 4,
 "nbformat_minor": 2
}
