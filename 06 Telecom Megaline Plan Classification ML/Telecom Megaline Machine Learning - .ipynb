{
 "cells": [
  {
   "cell_type": "markdown",
   "metadata": {},
   "source": [
    "# Telecom Megaline Machine Learning\n",
    "Continuation from the project of Telecom Statistical Data Analysis\n",
    "\n",
    "Project Report by Allentine Paulis\n",
    "\n"
   ]
  },
  {
   "cell_type": "markdown",
   "metadata": {},
   "source": [
    "# Table of Contents\n",
    "* [Project Description](#description)\n",
    "* [Data](#data)\n",
    "* [Step 1. Understanding Data](#understanding)\n",
    "* [Step 2. Splitting Data](#split)   \n",
    "* [Step 3. Machine Learning model](#model)\n",
    "    * [Decision Tree Classifier](#dtc)\n",
    "    * [Random Forest Classifier](#rfc)\n",
    "    * [K Neigbors Classifier](#knc)\n",
    "    * [Model Comparison](#modelcomparison)\n",
    "* [Step 4. Test Set Model](#test)\n",
    "* [Step 5. Check Sanity Model](#check)\n",
    "* [Step 6. Overall conclusion](#allconclusion)"
   ]
  },
  {
   "cell_type": "markdown",
   "metadata": {},
   "source": [
    "# Project Description <a class=\"anchor\" id=\"description\"></a>\n",
    "Mobile carrier Megaline has found out that many of their subscribers use legacy plans. They want to develop a model that would analyze subscribers' behavior and recommend one of Megaline's newer plans: Smart or Ultra.\n",
    "\n",
    "We have access to behavior data about subscribers who have already switched to the new plans (from the project for the Statistical Data Analysis). For this classification task, we need to develop a model that will pick the right plan. Since we have already performed the data preprocessing step, we can move straight to creating the model.\n",
    "\n",
    "Develop a model with the highest possible accuracy. In this project, the threshold for accuracy is 0.75. Check the accuracy using the test dataset."
   ]
  },
  {
   "cell_type": "markdown",
   "metadata": {},
   "source": [
    "# Data <a class=\"anchor\" id=\"data\"></a>\n",
    "Every observation in the dataset contains monthly behavior information about one user. The information given is as follows:\n",
    "- `сalls` — number of calls,\n",
    "- `minutes` — total call duration in minutes,\n",
    "- `messages` — number of text messages,\n",
    "- `mb_used` — Internet traffic used in MB,\n",
    "- `is_ultra` — plan for the current month (Ultra - 1, Smart - 0)."
   ]
  },
  {
   "cell_type": "markdown",
   "metadata": {},
   "source": [
    "# Step 1. Understanding Data  <a class=\"anchor\" id=\"understanding\"></a>"
   ]
  },
  {
   "cell_type": "code",
   "execution_count": 41,
   "metadata": {},
   "outputs": [],
   "source": [
    "import pandas as pd\n",
    "import numpy as np\n",
    "\n",
    "from sklearn.tree import DecisionTreeClassifier\n",
    "from sklearn.ensemble import RandomForestClassifier\n",
    "from sklearn.neighbors import KNeighborsClassifier\n",
    "\n",
    "from sklearn.model_selection import train_test_split\n",
    "from sklearn.metrics import accuracy_score\n",
    "\n",
    "import matplotlib.pyplot as plt\n",
    "import seaborn as sns"
   ]
  },
  {
   "cell_type": "code",
   "execution_count": 42,
   "metadata": {},
   "outputs": [],
   "source": [
    "df = pd.read_csv('https://code.s3.yandex.net/datasets/users_behavior.csv')"
   ]
  },
  {
   "cell_type": "code",
   "execution_count": 43,
   "metadata": {},
   "outputs": [
    {
     "data": {
      "text/html": [
       "<div>\n",
       "<style scoped>\n",
       "    .dataframe tbody tr th:only-of-type {\n",
       "        vertical-align: middle;\n",
       "    }\n",
       "\n",
       "    .dataframe tbody tr th {\n",
       "        vertical-align: top;\n",
       "    }\n",
       "\n",
       "    .dataframe thead th {\n",
       "        text-align: right;\n",
       "    }\n",
       "</style>\n",
       "<table border=\"1\" class=\"dataframe\">\n",
       "  <thead>\n",
       "    <tr style=\"text-align: right;\">\n",
       "      <th></th>\n",
       "      <th>calls</th>\n",
       "      <th>minutes</th>\n",
       "      <th>messages</th>\n",
       "      <th>mb_used</th>\n",
       "      <th>is_ultra</th>\n",
       "    </tr>\n",
       "  </thead>\n",
       "  <tbody>\n",
       "    <tr>\n",
       "      <td>count</td>\n",
       "      <td>3214.000000</td>\n",
       "      <td>3214.000000</td>\n",
       "      <td>3214.000000</td>\n",
       "      <td>3214.000000</td>\n",
       "      <td>3214.000000</td>\n",
       "    </tr>\n",
       "    <tr>\n",
       "      <td>mean</td>\n",
       "      <td>63.038892</td>\n",
       "      <td>438.208787</td>\n",
       "      <td>38.281269</td>\n",
       "      <td>17207.673836</td>\n",
       "      <td>0.306472</td>\n",
       "    </tr>\n",
       "    <tr>\n",
       "      <td>std</td>\n",
       "      <td>33.236368</td>\n",
       "      <td>234.569872</td>\n",
       "      <td>36.148326</td>\n",
       "      <td>7570.968246</td>\n",
       "      <td>0.461100</td>\n",
       "    </tr>\n",
       "    <tr>\n",
       "      <td>min</td>\n",
       "      <td>0.000000</td>\n",
       "      <td>0.000000</td>\n",
       "      <td>0.000000</td>\n",
       "      <td>0.000000</td>\n",
       "      <td>0.000000</td>\n",
       "    </tr>\n",
       "    <tr>\n",
       "      <td>25%</td>\n",
       "      <td>40.000000</td>\n",
       "      <td>274.575000</td>\n",
       "      <td>9.000000</td>\n",
       "      <td>12491.902500</td>\n",
       "      <td>0.000000</td>\n",
       "    </tr>\n",
       "    <tr>\n",
       "      <td>50%</td>\n",
       "      <td>62.000000</td>\n",
       "      <td>430.600000</td>\n",
       "      <td>30.000000</td>\n",
       "      <td>16943.235000</td>\n",
       "      <td>0.000000</td>\n",
       "    </tr>\n",
       "    <tr>\n",
       "      <td>75%</td>\n",
       "      <td>82.000000</td>\n",
       "      <td>571.927500</td>\n",
       "      <td>57.000000</td>\n",
       "      <td>21424.700000</td>\n",
       "      <td>1.000000</td>\n",
       "    </tr>\n",
       "    <tr>\n",
       "      <td>max</td>\n",
       "      <td>244.000000</td>\n",
       "      <td>1632.060000</td>\n",
       "      <td>224.000000</td>\n",
       "      <td>49745.730000</td>\n",
       "      <td>1.000000</td>\n",
       "    </tr>\n",
       "  </tbody>\n",
       "</table>\n",
       "</div>"
      ],
      "text/plain": [
       "             calls      minutes     messages       mb_used     is_ultra\n",
       "count  3214.000000  3214.000000  3214.000000   3214.000000  3214.000000\n",
       "mean     63.038892   438.208787    38.281269  17207.673836     0.306472\n",
       "std      33.236368   234.569872    36.148326   7570.968246     0.461100\n",
       "min       0.000000     0.000000     0.000000      0.000000     0.000000\n",
       "25%      40.000000   274.575000     9.000000  12491.902500     0.000000\n",
       "50%      62.000000   430.600000    30.000000  16943.235000     0.000000\n",
       "75%      82.000000   571.927500    57.000000  21424.700000     1.000000\n",
       "max     244.000000  1632.060000   224.000000  49745.730000     1.000000"
      ]
     },
     "execution_count": 43,
     "metadata": {},
     "output_type": "execute_result"
    }
   ],
   "source": [
    "df.describe()"
   ]
  },
  {
   "cell_type": "code",
   "execution_count": 44,
   "metadata": {},
   "outputs": [
    {
     "name": "stdout",
     "output_type": "stream",
     "text": [
      "<class 'pandas.core.frame.DataFrame'>\n",
      "RangeIndex: 3214 entries, 0 to 3213\n",
      "Data columns (total 5 columns):\n",
      "calls       3214 non-null float64\n",
      "minutes     3214 non-null float64\n",
      "messages    3214 non-null float64\n",
      "mb_used     3214 non-null float64\n",
      "is_ultra    3214 non-null int64\n",
      "dtypes: float64(4), int64(1)\n",
      "memory usage: 125.7 KB\n"
     ]
    }
   ],
   "source": [
    "df.info()"
   ]
  },
  {
   "cell_type": "code",
   "execution_count": 45,
   "metadata": {},
   "outputs": [
    {
     "data": {
      "text/html": [
       "<div>\n",
       "<style scoped>\n",
       "    .dataframe tbody tr th:only-of-type {\n",
       "        vertical-align: middle;\n",
       "    }\n",
       "\n",
       "    .dataframe tbody tr th {\n",
       "        vertical-align: top;\n",
       "    }\n",
       "\n",
       "    .dataframe thead th {\n",
       "        text-align: right;\n",
       "    }\n",
       "</style>\n",
       "<table border=\"1\" class=\"dataframe\">\n",
       "  <thead>\n",
       "    <tr style=\"text-align: right;\">\n",
       "      <th></th>\n",
       "      <th>calls</th>\n",
       "      <th>minutes</th>\n",
       "      <th>messages</th>\n",
       "      <th>mb_used</th>\n",
       "      <th>is_ultra</th>\n",
       "    </tr>\n",
       "  </thead>\n",
       "  <tbody>\n",
       "    <tr>\n",
       "      <td>1620</td>\n",
       "      <td>47.0</td>\n",
       "      <td>351.45</td>\n",
       "      <td>0.0</td>\n",
       "      <td>23721.15</td>\n",
       "      <td>0</td>\n",
       "    </tr>\n",
       "    <tr>\n",
       "      <td>2177</td>\n",
       "      <td>38.0</td>\n",
       "      <td>301.27</td>\n",
       "      <td>37.0</td>\n",
       "      <td>28914.24</td>\n",
       "      <td>1</td>\n",
       "    </tr>\n",
       "    <tr>\n",
       "      <td>2031</td>\n",
       "      <td>52.0</td>\n",
       "      <td>385.11</td>\n",
       "      <td>0.0</td>\n",
       "      <td>17617.43</td>\n",
       "      <td>0</td>\n",
       "    </tr>\n",
       "    <tr>\n",
       "      <td>1799</td>\n",
       "      <td>110.0</td>\n",
       "      <td>734.50</td>\n",
       "      <td>12.0</td>\n",
       "      <td>16779.36</td>\n",
       "      <td>0</td>\n",
       "    </tr>\n",
       "    <tr>\n",
       "      <td>3095</td>\n",
       "      <td>63.0</td>\n",
       "      <td>409.35</td>\n",
       "      <td>0.0</td>\n",
       "      <td>4300.48</td>\n",
       "      <td>1</td>\n",
       "    </tr>\n",
       "    <tr>\n",
       "      <td>490</td>\n",
       "      <td>56.0</td>\n",
       "      <td>334.29</td>\n",
       "      <td>82.0</td>\n",
       "      <td>21969.01</td>\n",
       "      <td>0</td>\n",
       "    </tr>\n",
       "    <tr>\n",
       "      <td>2665</td>\n",
       "      <td>47.0</td>\n",
       "      <td>378.52</td>\n",
       "      <td>47.0</td>\n",
       "      <td>9804.44</td>\n",
       "      <td>0</td>\n",
       "    </tr>\n",
       "    <tr>\n",
       "      <td>1355</td>\n",
       "      <td>72.0</td>\n",
       "      <td>495.11</td>\n",
       "      <td>34.0</td>\n",
       "      <td>15887.37</td>\n",
       "      <td>0</td>\n",
       "    </tr>\n",
       "    <tr>\n",
       "      <td>330</td>\n",
       "      <td>52.0</td>\n",
       "      <td>423.56</td>\n",
       "      <td>118.0</td>\n",
       "      <td>14503.80</td>\n",
       "      <td>1</td>\n",
       "    </tr>\n",
       "    <tr>\n",
       "      <td>2943</td>\n",
       "      <td>0.0</td>\n",
       "      <td>0.00</td>\n",
       "      <td>17.0</td>\n",
       "      <td>12905.41</td>\n",
       "      <td>1</td>\n",
       "    </tr>\n",
       "  </tbody>\n",
       "</table>\n",
       "</div>"
      ],
      "text/plain": [
       "      calls  minutes  messages   mb_used  is_ultra\n",
       "1620   47.0   351.45       0.0  23721.15         0\n",
       "2177   38.0   301.27      37.0  28914.24         1\n",
       "2031   52.0   385.11       0.0  17617.43         0\n",
       "1799  110.0   734.50      12.0  16779.36         0\n",
       "3095   63.0   409.35       0.0   4300.48         1\n",
       "490    56.0   334.29      82.0  21969.01         0\n",
       "2665   47.0   378.52      47.0   9804.44         0\n",
       "1355   72.0   495.11      34.0  15887.37         0\n",
       "330    52.0   423.56     118.0  14503.80         1\n",
       "2943    0.0     0.00      17.0  12905.41         1"
      ]
     },
     "execution_count": 45,
     "metadata": {},
     "output_type": "execute_result"
    }
   ],
   "source": [
    "df.sample(10)"
   ]
  },
  {
   "cell_type": "code",
   "execution_count": 46,
   "metadata": {},
   "outputs": [
    {
     "data": {
      "text/plain": [
       "calls       0\n",
       "minutes     0\n",
       "messages    0\n",
       "mb_used     0\n",
       "is_ultra    0\n",
       "dtype: int64"
      ]
     },
     "execution_count": 46,
     "metadata": {},
     "output_type": "execute_result"
    }
   ],
   "source": [
    "df.isnull().sum()"
   ]
  },
  {
   "cell_type": "code",
   "execution_count": 47,
   "metadata": {},
   "outputs": [
    {
     "data": {
      "text/plain": [
       "0"
      ]
     },
     "execution_count": 47,
     "metadata": {},
     "output_type": "execute_result"
    }
   ],
   "source": [
    "df.duplicated().sum()"
   ]
  },
  {
   "cell_type": "markdown",
   "metadata": {},
   "source": [
    "## Conclusion"
   ]
  },
  {
   "cell_type": "markdown",
   "metadata": {},
   "source": [
    "- There are 3214 rows\n",
    "- There are 5 columns which are calls, minutes, messages, mb_used and is_ultra\n",
    "- No missing values\n",
    "- No duplicates"
   ]
  },
  {
   "cell_type": "markdown",
   "metadata": {},
   "source": [
    "# Step 2. Splitting Data  <a class=\"anchor\" id=\"split\"></a>\n",
    "Split the source data into a training set, a validation set, and a test set."
   ]
  },
  {
   "cell_type": "markdown",
   "metadata": {},
   "source": [
    "- Split the data into training and testing (80/20 is a good starting point)."
   ]
  },
  {
   "cell_type": "code",
   "execution_count": 48,
   "metadata": {},
   "outputs": [],
   "source": [
    "df_train, df_test = train_test_split(df, test_size=0.2, random_state=12345)"
   ]
  },
  {
   "cell_type": "code",
   "execution_count": 49,
   "metadata": {},
   "outputs": [
    {
     "data": {
      "text/plain": [
       "(2571, 5)"
      ]
     },
     "execution_count": 49,
     "metadata": {},
     "output_type": "execute_result"
    }
   ],
   "source": [
    "df_train.shape"
   ]
  },
  {
   "cell_type": "code",
   "execution_count": 50,
   "metadata": {},
   "outputs": [
    {
     "data": {
      "text/plain": [
       "(643, 5)"
      ]
     },
     "execution_count": 50,
     "metadata": {},
     "output_type": "execute_result"
    }
   ],
   "source": [
    "df_test.shape"
   ]
  },
  {
   "cell_type": "markdown",
   "metadata": {},
   "source": [
    "- Split the training data into training and validation (again, 80/20 is a fair split)"
   ]
  },
  {
   "cell_type": "code",
   "execution_count": 51,
   "metadata": {},
   "outputs": [],
   "source": [
    "df_train, df_valid = train_test_split(df_train,test_size = 0.2, random_state=12345)"
   ]
  },
  {
   "cell_type": "code",
   "execution_count": 52,
   "metadata": {},
   "outputs": [
    {
     "data": {
      "text/plain": [
       "(2056, 5)"
      ]
     },
     "execution_count": 52,
     "metadata": {},
     "output_type": "execute_result"
    }
   ],
   "source": [
    "df_train.shape"
   ]
  },
  {
   "cell_type": "code",
   "execution_count": 53,
   "metadata": {},
   "outputs": [
    {
     "data": {
      "text/plain": [
       "(515, 5)"
      ]
     },
     "execution_count": 53,
     "metadata": {},
     "output_type": "execute_result"
    }
   ],
   "source": [
    "df_valid.shape"
   ]
  },
  {
   "cell_type": "code",
   "execution_count": 33,
   "metadata": {},
   "outputs": [],
   "source": [
    "# Assign Target and Features Variables\n",
    "X = df.drop('is_ultra', axis=1)\n",
    "y = df['is_ultra']\n",
    "\n",
    "# Train Sample\n",
    "X_train = df_train.drop('is_ultra', axis=1)\n",
    "y_train = df_train['is_ultra']\n",
    "\n",
    "# Validation Sample\n",
    "X_valid = df_valid.drop('is_ultra', axis=1)\n",
    "y_valid = df_valid['is_ultra']\n",
    "\n",
    "# Test Sample\n",
    "X_test = df_test.drop('is_ultra', axis=1)\n",
    "y_test = df_test['is_ultra']"
   ]
  },
  {
   "cell_type": "code",
   "execution_count": 34,
   "metadata": {},
   "outputs": [
    {
     "name": "stdout",
     "output_type": "stream",
     "text": [
      "train = 63.97%\n",
      "val = 16.02%\n",
      "test = 20.01%\n"
     ]
    }
   ],
   "source": [
    "print(f\"train = {100*len(X_train)/len(df):.2f}%\")\n",
    "print(f\"val = {100*len(X_valid)/len(df):.2f}%\")\n",
    "print(f\"test = {100*len(X_test)/len(df):.2f}%\")"
   ]
  },
  {
   "cell_type": "markdown",
   "metadata": {},
   "source": [
    "## Conclusion\n",
    "- Split the data into training and testing with 80/20 ratio as a good starting point.\n",
    "- Then Split the training data into training and validation with 80/20 ratio.\n",
    "- The Train data is 63.97% or 2056 rows, test data is 20.01% or 643 rows and the validation data is 16.02% or 515 rows.\n",
    "- Features or X variable are calls, minutes, messages and mb_used\n",
    "- Target or y variable is 'is_ultra'"
   ]
  },
  {
   "cell_type": "markdown",
   "metadata": {},
   "source": [
    "# Step 3. Machine Learning model  <a class=\"anchor\" id=\"model\"></a>"
   ]
  },
  {
   "cell_type": "markdown",
   "metadata": {},
   "source": [
    "Investigate the quality of different models by changing hyperparameters. Briefly describe the findings of the study."
   ]
  },
  {
   "cell_type": "markdown",
   "metadata": {},
   "source": [
    "## Decision Tree Classifier <a class=\"anchor\" id=\"dtc\"></a>"
   ]
  },
  {
   "cell_type": "code",
   "execution_count": 35,
   "metadata": {},
   "outputs": [
    {
     "name": "stdout",
     "output_type": "stream",
     "text": [
      "Depth: 1 Accuracy: 0.7223300970873786\n",
      "Depth: 2 Accuracy: 0.7475728155339806\n",
      "Depth: 3 Accuracy: 0.7553398058252427\n",
      "Depth: 4 Accuracy: 0.7533980582524272\n",
      "Depth: 5 Accuracy: 0.7572815533980582\n",
      "Depth: 6 Accuracy: 0.7611650485436893\n",
      "Depth: 7 Accuracy: 0.7650485436893204\n",
      "Depth: 8 Accuracy: 0.7631067961165049\n",
      "Depth: 9 Accuracy: 0.7533980582524272\n"
     ]
    },
    {
     "data": {
      "image/png": "[encoded data removed]",
      "text/plain": [
       "<Figure size 864x432 with 1 Axes>"
      ]
     },
     "metadata": {
      "needs_background": "light"
     },
     "output_type": "display_data"
    }
   ],
   "source": [
    "depths = []\n",
    "DTC_accuracy = []\n",
    "\n",
    "plt.figure(figsize=(12,6))\n",
    "\n",
    "for depth in range(1,10):\n",
    "    model = DecisionTreeClassifier(random_state=12345, max_depth=depth)\n",
    "    model.fit(X_train, y_train)\n",
    "    y_pred = model.predict(X_valid)\n",
    "    score = accuracy_score(y_valid, y_pred)\n",
    "    depths.append(depth)\n",
    "    DTC_accuracy.append(score)\n",
    "    print('Depth:', depth, end='')\n",
    "    print(' Accuracy:', score)\n",
    "sns.lineplot(data=pd.DataFrame(data=DTC_accuracy, index=depths))\n",
    "plt.legend('')\n",
    "plt.title(\"Accuracy at Different Depth\", fontsize=15) \n",
    "plt.ylabel(\"Accuracy\") \n",
    "plt.xlabel(\"Max depths\")\n",
    "plt.show()"
   ]
  },
  {
   "cell_type": "markdown",
   "metadata": {},
   "source": [
    "## Random Forest Classifier <a class=\"anchor\" id=\"rfc\"></a>"
   ]
  },
  {
   "cell_type": "code",
   "execution_count": 36,
   "metadata": {},
   "outputs": [
    {
     "name": "stdout",
     "output_type": "stream",
     "text": [
      "Estimator: 10 Accuracy: 0.7650485436893204\n",
      "Estimator: 15 Accuracy: 0.7689320388349514\n",
      "Estimator: 20 Accuracy: 0.7728155339805826\n",
      "Estimator: 25 Accuracy: 0.7689320388349514\n",
      "Estimator: 30 Accuracy: 0.7766990291262136\n",
      "Estimator: 35 Accuracy: 0.7786407766990291\n",
      "Estimator: 40 Accuracy: 0.7786407766990291\n",
      "Estimator: 45 Accuracy: 0.7786407766990291\n",
      "Estimator: 50 Accuracy: 0.7786407766990291\n"
     ]
    },
    {
     "data": {
      "image/png": "[encoded data removed]",
      "text/plain": [
       "<Figure size 720x360 with 1 Axes>"
      ]
     },
     "metadata": {
      "needs_background": "light"
     },
     "output_type": "display_data"
    }
   ],
   "source": [
    "estimators = []\n",
    "RFC_accuracy = []\n",
    "\n",
    "plt.figure(figsize=(10, 5))\n",
    "\n",
    "for estim in range(10,51,5):\n",
    "    model = RandomForestClassifier(random_state=12345, n_estimators=estim)\n",
    "    model.fit(X_train, y_train)\n",
    "    y_pred = model.predict(X_valid)\n",
    "    score = accuracy_score(y_valid, y_pred)\n",
    "    estimators.append(estim)\n",
    "    RFC_accuracy.append(score)\n",
    "    print('Estimator:', estim, end='')\n",
    "    print(' Accuracy:', score)\n",
    "    sns.lineplot(data=pd.DataFrame(data=RFC_accuracy, index=estimators))\n",
    "    plt.legend('')\n",
    "plt.title(\"Accuracy at Different Estimators\", fontsize=15) \n",
    "plt.ylabel(\"Accuracies\") \n",
    "plt.xlabel(\"Estimators\")\n",
    "plt.show()"
   ]
  },
  {
   "cell_type": "markdown",
   "metadata": {},
   "source": [
    "Using Random Forest Classifier, after n estimators = 35 (n estimators 35 or greater than 35), the accuracy is always the same "
   ]
  },
  {
   "cell_type": "markdown",
   "metadata": {},
   "source": [
    "## K Neighbors Classifier <a class=\"anchor\" id=\"knc\"></a>"
   ]
  },
  {
   "cell_type": "code",
   "execution_count": 37,
   "metadata": {},
   "outputs": [
    {
     "name": "stdout",
     "output_type": "stream",
     "text": [
      "Neighbors: 1 Accuracy: 0.6737864077669903\n",
      "Neighbors: 4 Accuracy: 0.7475728155339806\n",
      "Neighbors: 7 Accuracy: 0.7514563106796116\n",
      "Neighbors: 10 Accuracy: 0.7611650485436893\n",
      "Neighbors: 13 Accuracy: 0.7592233009708738\n",
      "Neighbors: 16 Accuracy: 0.7436893203883496\n",
      "Neighbors: 19 Accuracy: 0.7398058252427184\n",
      "Neighbors: 22 Accuracy: 0.7359223300970874\n",
      "Neighbors: 25 Accuracy: 0.7339805825242719\n",
      "\n",
      "\n"
     ]
    },
    {
     "data": {
      "image/png": "[encoded data removed]",
      "text/plain": [
       "<Figure size 720x360 with 1 Axes>"
      ]
     },
     "metadata": {
      "needs_background": "light"
     },
     "output_type": "display_data"
    }
   ],
   "source": [
    "neighbors_list = []\n",
    "KNC_accuracy = []\n",
    "\n",
    "plt.figure(figsize=(10, 5))\n",
    "for neighbors in range(1,28,3):\n",
    "    model = KNeighborsClassifier(n_neighbors = neighbors)\n",
    "    model.fit(X_train, y_train)\n",
    "    y_pred = model.predict(X_valid)\n",
    "    score = accuracy_score(y_valid, y_pred)\n",
    "    neighbors_list.append(neighbors)\n",
    "    KNC_accuracy.append(score)\n",
    "    print('Neighbors:', neighbors, end='')\n",
    "    print(' Accuracy:', score)\n",
    "    sns.lineplot(data=pd.DataFrame(data=KNC_accuracy, index=neighbors_list))\n",
    "    plt.legend('')\n",
    "    \n",
    "print('\\n')\n",
    "plt.title(\"Accuracy at Different Neighbors\", fontsize=15) \n",
    "plt.ylabel(\"Accuracy\") \n",
    "plt.xlabel(\"Neighbors\")\n",
    "plt.show()"
   ]
  },
  {
   "cell_type": "markdown",
   "metadata": {},
   "source": [
    "## Model Comparison <a class=\"anchor\" id=\"modelcomparison\"></a>"
   ]
  },
  {
   "cell_type": "code",
   "execution_count": 38,
   "metadata": {},
   "outputs": [
    {
     "data": {
      "image/png": "[encoded data removed]",
      "text/plain": [
       "<Figure size 864x432 with 1 Axes>"
      ]
     },
     "metadata": {
      "needs_background": "light"
     },
     "output_type": "display_data"
    }
   ],
   "source": [
    "data = pd.DataFrame(columns=['DecisionTreeClassifier','RandomForestClassifier','KNeighborsClassifier'])\n",
    "data['DecisionTreeClassifier'] = DTC_accuracy\n",
    "data['RandomForestClassifier'] = RFC_accuracy\n",
    "data['KNeighborsClassifier'] = KNC_accuracy\n",
    "\n",
    "plt.figure(figsize=(12,6))\n",
    "plt.title('Model Comparison', fontsize=15)\n",
    "plt.xlabel('')\n",
    "plt.ylabel('Accuracy')\n",
    "sns.lineplot(data=data)\n",
    "plt.show()"
   ]
  },
  {
   "cell_type": "markdown",
   "metadata": {},
   "source": [
    "## Conclusion"
   ]
  },
  {
   "cell_type": "markdown",
   "metadata": {},
   "source": [
    "- The models used are : Decision Tree Classifier, Random Forest Classifier, and K Nearest Neighbors.\n",
    "- It's classification problem so we used Classification model not regression model.\n",
    "- Random state used is 12345\n",
    "- The best Decision Tree Classifier is with Depth: 7 and Accuracy: 0.765\n",
    "- The best Random Forest Classifier is with N Estimator: 35 and Accuracy: 0.7786\n",
    "- Using Random Forest Classifier, after n estimators = 35 (n estimators 35 or greater than 35), the accuracy is always the same\n",
    "- The best K Neighbors Classifier is with Neighbors: 10 and Accuracy: 0.761\n",
    "- The **best model** is **Random Forest Classifier** with **n estimators = 35** and **accuracy 0.7786**"
   ]
  },
  {
   "cell_type": "markdown",
   "metadata": {},
   "source": [
    "# Step 4. Test Set Model  <a class=\"anchor\" id=\"test\"></a>\n",
    "Check the quality of the model using the test set."
   ]
  },
  {
   "cell_type": "code",
   "execution_count": 40,
   "metadata": {},
   "outputs": [
    {
     "name": "stdout",
     "output_type": "stream",
     "text": [
      "Accuracy: 0.7853810264385692\n"
     ]
    }
   ],
   "source": [
    "rfc_model = RandomForestClassifier(random_state=12345, n_estimators=35)\n",
    "rfc_model.fit(X_train, y_train)\n",
    "y_pred = rfc_model.predict(X_test)\n",
    "score = accuracy_score(y_test, y_pred)\n",
    "print('Accuracy:', score)"
   ]
  },
  {
   "cell_type": "markdown",
   "metadata": {},
   "source": [
    "## Conclusion\n",
    "- The **accuracy** on **test set** using **Random Forest Classifier** model with n estimators 35 is **0.785**"
   ]
  },
  {
   "cell_type": "markdown",
   "metadata": {},
   "source": [
    "# Step 5. Check Sanity Model  <a class=\"anchor\" id=\"check\"></a>\n",
    "Sanity check the model. "
   ]
  },
  {
   "cell_type": "code",
   "execution_count": 55,
   "metadata": {},
   "outputs": [
    {
     "data": {
      "text/plain": [
       "0    69.352831\n",
       "1    30.647169\n",
       "Name: is_ultra, dtype: float64"
      ]
     },
     "execution_count": 55,
     "metadata": {},
     "output_type": "execute_result"
    }
   ],
   "source": [
    "df['is_ultra'].value_counts(normalize=True)*100"
   ]
  },
  {
   "cell_type": "markdown",
   "metadata": {},
   "source": [
    "- 69.35% Smart plan\n",
    "- 30.65% Ultra plan"
   ]
  },
  {
   "cell_type": "markdown",
   "metadata": {},
   "source": [
    "## Conclusion\n",
    "Let our model always predict the Smart plan. Then the accuracy of the model will be about 69%, but the accuracy of our best model is greater and equal to 78%. We can conclude that the sanity test was passed."
   ]
  },
  {
   "cell_type": "markdown",
   "metadata": {},
   "source": [
    "# Step 6. Overall Conclusion  <a class=\"anchor\" id=\"allconclusion\"></a>"
   ]
  },
  {
   "cell_type": "markdown",
   "metadata": {},
   "source": [
    "- Machine Learning models used for this task are : Decision Tree Classifier, Random Forest Classifier, and K Nearest Neighbors.\n",
    "- The task is classification problem so we used Classification model not regression model.\n",
    "- The best Decision Tree Classifier is with Depth: 7 and Accuracy: 0.765\n",
    "- The best Random Forest Classifier is with N Estimator: 35 and Accuracy: 0.7786\n",
    "- Using Random Forest Classifier, after n estimators = 35 (n estimators 35 or greater than 35), the accuracy is always the same\n",
    "- The best K Neighbors Classifier is with Neighbors: 10 and Accuracy: 0.761\n",
    "- **Best model** for this task is **Random Forest Classifier** model with **n estimators 35** to get accuracy of 0.7786 on train and validation set and accuracy of **0.785 on test set**\n",
    "- Sanity test passed. Assuming the model always predict the smart plan, the accuracy of the model will be about 69% based on the data provided. While the accuracy of our best model is greater and equal to 78%. In conclusion sanity of the model was passed. "
   ]
  },
  {
   "cell_type": "code",
   "execution_count": null,
   "metadata": {},
   "outputs": [],
   "source": []
  }
 ],
 "metadata": {
  "kernelspec": {
   "display_name": "Python 3",
   "language": "python",
   "name": "python3"
  },
  "language_info": {
   "codemirror_mode": {
    "name": "ipython",
    "version": 3
   },
   "file_extension": ".py",
   "mimetype": "text/x-python",
   "name": "python",
   "nbconvert_exporter": "python",
   "pygments_lexer": "ipython3",
   "version": "3.7.8"
  },
  "toc": {
   "base_numbering": 1,
   "nav_menu": {},
   "number_sections": false,
   "sideBar": true,
   "skip_h1_title": true,
   "title_cell": "Table of Contents",
   "title_sidebar": "Contents",
   "toc_cell": false,
   "toc_position": {
    "height": "calc(100% - 180px)",
    "left": "10px",
    "top": "150px",
    "width": "235.198px"
   },
   "toc_section_display": true,
   "toc_window_display": false
  }
 },
 "nbformat": 4,
 "nbformat_minor": 2
}
